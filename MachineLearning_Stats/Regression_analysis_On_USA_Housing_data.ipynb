{
 "cells": [
  {
   "cell_type": "markdown",
   "metadata": {},
   "source": [
    "# Building Model using Linear Regression"
   ]
  },
  {
   "cell_type": "code",
   "execution_count": 1,
   "metadata": {
    "code_folding": []
   },
   "outputs": [],
   "source": [
    "import org.apache.spark.{SparkConf, SparkContext}\n",
    "import org.apache.spark.sql._\n",
    "import org.apache.spark.ml.feature._\n",
    "import org.apache.spark.ml._\n",
    "import org.apache.spark.sql.types.{StructType, StructField, StringType, IntegerType,DoubleType};\n",
    "import org.apache.spark.ml.linalg.Vectors\n",
    "import org.apache.spark.sql._\n",
    "import org.apache.spark.ml.feature.{VectorAssembler,VectorIndexer}\n",
    "import org.apache.spark.ml.Pipeline\n",
    "import org.apache.spark.ml.regression.LinearRegression\n",
    "import org.apache.spark.ml.evaluation.RegressionEvaluator"
   ]
  },
  {
   "cell_type": "code",
   "execution_count": 2,
   "metadata": {},
   "outputs": [
    {
     "data": {
      "text/plain": [
       "conf = org.apache.spark.SparkConf@561a3c0c\n",
       "sc = org.apache.spark.SparkContext@4bda76cf\n",
       "spark = org.apache.spark.sql.SQLContext@167e86f6\n"
      ]
     },
     "metadata": {},
     "output_type": "display_data"
    },
    {
     "data": {
      "text/plain": [
       "warning: there was one deprecation warning; re-run with -deprecation for details\n"
      ]
     },
     "metadata": {},
     "output_type": "display_data"
    },
    {
     "data": {
      "text/plain": [
       "org.apache.spark.sql.SQLContext@167e86f6"
      ]
     },
     "execution_count": 2,
     "metadata": {},
     "output_type": "execute_result"
    }
   ],
   "source": [
    "val conf = new SparkConf().setAppName(\"Regression_on_USA_House_Data\")\n",
    "val sc = new SparkContext(conf)\n",
    "val spark = new SQLContext(sc) "
   ]
  },
  {
   "cell_type": "code",
   "execution_count": 3,
   "metadata": {},
   "outputs": [
    {
     "data": {
      "text/plain": [
       "schema = StructType(StructField(AvgAreaIncome,DoubleType,true), StructField(AvgAreaHouseAge,DoubleType,true), StructField(AvgAreaNumberoRooms,DoubleType,true), StructField(AvgAreaNumberofBedRooms,DoubleType,true), StructField(AreaPopulation,DoubleType,true), StructField(Price,DoubleType,true), StructField(Address,StringType,true))\n"
      ]
     },
     "metadata": {},
     "output_type": "display_data"
    },
    {
     "data": {
      "text/plain": [
       "StructType(StructField(AvgAreaIncome,DoubleType,true), StructField(AvgAreaHouseAge,DoubleType,true), StructField(AvgAreaNumberoRooms,DoubleType,true), StructField(AvgAreaNumberofBedRooms,DoubleType,true), StructField(AreaPopulation,DoubleType,true), StructField(Price,DoubleType,true), StructField(Address,StringType,true))"
      ]
     },
     "execution_count": 3,
     "metadata": {},
     "output_type": "execute_result"
    }
   ],
   "source": [
    "val schema = StructType(Seq(StructField(\"AvgAreaIncome\",DoubleType,true), StructField(\"AvgAreaHouseAge\",DoubleType,true), \n",
    "               StructField(\"AvgAreaNumberoRooms\",DoubleType,true), \n",
    "               StructField(\"AvgAreaNumberofBedRooms\",DoubleType,true), StructField(\"AreaPopulation\",DoubleType,true), \n",
    "               StructField(\"Price\",DoubleType,true), StructField(\"Address\",StringType,true)))"
   ]
  },
  {
   "cell_type": "code",
   "execution_count": 4,
   "metadata": {},
   "outputs": [
    {
     "data": {
      "text/plain": [
       "data = [AvgAreaIncome: double, AvgAreaHouseAge: double ... 5 more fields]\n"
      ]
     },
     "metadata": {},
     "output_type": "display_data"
    },
    {
     "data": {
      "text/plain": [
       "[AvgAreaIncome: double, AvgAreaHouseAge: double ... 5 more fields]"
      ]
     },
     "execution_count": 4,
     "metadata": {},
     "output_type": "execute_result"
    }
   ],
   "source": [
    "val data = spark.read.format(\"csv\")\n",
    "                .option(\"header\",\"true\")\n",
    "                .option(\"delimiter\", \",\")\n",
    "                .schema(schema)\n",
    "                .load(\"/user/viswatejaster9073/ML/USA_Housing.csv\")"
   ]
  },
  {
   "cell_type": "markdown",
   "metadata": {},
   "source": [
    "# Now Identify the Label (Value we need to predict) In our case its Price\n",
    "- I am renaming the Price varibale as label for better understanding\n",
    "- Removing unwanted columns (Dimension reduction/Feture engineering)\n",
    "\n",
    "- <strike>-So for above requrement I need to create new data frame convert column name price as label and then drop the price column as is is redunent\n",
    "- To achive this I am taking the name of the columns as array as shown below in the cell 89, exluding price\n",
    "- and passing this array to selectExr,he :_* operator (which turns an array into a vararg)"
   ]
  },
  {
   "cell_type": "markdown",
   "metadata": {},
   "source": [
    "## Removing Address column as it wont help for our ML model and Renaming Price column"
   ]
  },
  {
   "cell_type": "code",
   "execution_count": 5,
   "metadata": {},
   "outputs": [
    {
     "data": {
      "text/plain": [
       "final_data = [AvgAreaIncome: double, AvgAreaHouseAge: double ... 4 more fields]\n"
      ]
     },
     "metadata": {},
     "output_type": "display_data"
    },
    {
     "data": {
      "text/plain": [
       "[AvgAreaIncome: double, AvgAreaHouseAge: double ... 4 more fields]"
      ]
     },
     "execution_count": 5,
     "metadata": {},
     "output_type": "execute_result"
    }
   ],
   "source": [
    "val final_data = data.withColumnRenamed(\"price\",\"label\").drop(\"Address\")"
   ]
  },
  {
   "cell_type": "code",
   "execution_count": 6,
   "metadata": {},
   "outputs": [
    {
     "name": "stdout",
     "output_type": "stream",
     "text": [
      "root\n",
      " |-- AvgAreaIncome: double (nullable = true)\n",
      " |-- AvgAreaHouseAge: double (nullable = true)\n",
      " |-- AvgAreaNumberoRooms: double (nullable = true)\n",
      " |-- AvgAreaNumberofBedRooms: double (nullable = true)\n",
      " |-- AreaPopulation: double (nullable = true)\n",
      " |-- label: double (nullable = true)\n",
      "\n"
     ]
    }
   ],
   "source": [
    "final_data.printSchema"
   ]
  },
  {
   "cell_type": "markdown",
   "metadata": {},
   "source": [
    "## Checking Null values"
   ]
  },
  {
   "cell_type": "code",
   "execution_count": 7,
   "metadata": {},
   "outputs": [
    {
     "data": {
      "text/plain": [
       "5000"
      ]
     },
     "execution_count": 7,
     "metadata": {},
     "output_type": "execute_result"
    }
   ],
   "source": [
    "final_data.map(x=>x.anyNull).filter($\"value\" === true).count"
   ]
  },
  {
   "cell_type": "markdown",
   "metadata": {},
   "source": [
    "### Imputing null values with median"
   ]
  },
  {
   "cell_type": "code",
   "execution_count": 8,
   "metadata": {},
   "outputs": [
    {
     "data": {
      "text/plain": [
       "imputer = imputer_97b4e67c0185\n"
      ]
     },
     "metadata": {},
     "output_type": "display_data"
    },
    {
     "data": {
      "text/plain": [
       "imputer_97b4e67c0185"
      ]
     },
     "execution_count": 8,
     "metadata": {},
     "output_type": "execute_result"
    }
   ],
   "source": [
    "val imputer = new Imputer().setInputCols(final_data.columns).setOutputCols(final_data.columns)\n",
    "                .setStrategy(\"median\")"
   ]
  },
  {
   "cell_type": "code",
   "execution_count": 9,
   "metadata": {},
   "outputs": [
    {
     "data": {
      "text/plain": [
       "model = imputer_97b4e67c0185\n",
       "model_final = [AvgAreaIncome: double, AvgAreaHouseAge: double ... 4 more fields]\n"
      ]
     },
     "metadata": {},
     "output_type": "display_data"
    },
    {
     "data": {
      "text/plain": [
       "[AvgAreaIncome: double, AvgAreaHouseAge: double ... 4 more fields]"
      ]
     },
     "execution_count": 9,
     "metadata": {},
     "output_type": "execute_result"
    }
   ],
   "source": [
    "val model = imputer.fit(final_data)\n",
    "val model_final=model.transform(final_data)"
   ]
  },
  {
   "cell_type": "code",
   "execution_count": 10,
   "metadata": {},
   "outputs": [
    {
     "name": "stdout",
     "output_type": "stream",
     "text": [
      "+------------------+------------------+-------------------+-----------------------+------------------+------------------+\n",
      "|     AvgAreaIncome|   AvgAreaHouseAge|AvgAreaNumberoRooms|AvgAreaNumberofBedRooms|    AreaPopulation|             label|\n",
      "+------------------+------------------+-------------------+-----------------------+------------------+------------------+\n",
      "| 79545.45857431678| 5.682861321615587|  7.009188142792237|                   4.09|23086.800502686456|1059033.5578701235|\n",
      "| 68789.32900775905| 5.969800580150023| 7.0023266199799705|                   4.05|  36183.2878037408|  1232156.01224821|\n",
      "| 79248.64245482568|6.0028998082752425|  6.730821019094919|                   3.09| 40173.07217364482|  1505890.91484695|\n",
      "| 68789.32900775905| 5.969800580150023| 7.0023266199799705|                   4.05|  36183.2878037408|  1232156.01224821|\n",
      "|61287.067178656784| 5.865889840310001|  8.512727430375099|                   5.13| 36882.15939970458|1058987.9878760849|\n",
      "| 68789.32900775905| 5.969800580150023| 7.0023266199799705|                   4.05|  36183.2878037408|  1232156.01224821|\n",
      "| 63345.24004622798|7.1882360945186425|  5.586728664827653|                   3.26| 34310.24283090706|1260616.8066294468|\n",
      "| 68789.32900775905| 5.969800580150023| 7.0023266199799705|                   4.05|  36183.2878037408|  1232156.01224821|\n",
      "|59982.197225708034| 5.040554523106283|  7.839387785120487|                   4.23|26354.109472103148| 630943.4893385402|\n",
      "| 68789.32900775905| 5.969800580150023| 7.0023266199799705|                   4.05|  36183.2878037408|  1232156.01224821|\n",
      "|  80175.7541594853|4.9884077575337145|  6.104512439428879|                   4.04|26748.428424689715|1068138.0743935304|\n",
      "| 68789.32900775905| 5.969800580150023| 7.0023266199799705|                   4.05|  36183.2878037408|  1232156.01224821|\n",
      "| 64698.46342788773| 6.025335906887153|  8.147759585023431|                   3.41| 60828.24908540716|1502055.8173744078|\n",
      "| 68789.32900775905| 5.969800580150023| 7.0023266199799705|                   4.05|  36183.2878037408|  1232156.01224821|\n",
      "| 78394.33927753085|6.9897797477182815|  6.620477995185026|                   2.42|36516.358972493836|1573936.5644777215|\n",
      "| 68789.32900775905| 5.969800580150023| 7.0023266199799705|                   4.05|  36183.2878037408|  1232156.01224821|\n",
      "| 59927.66081334963|  5.36212556960358| 6.3931209805509015|                    2.3| 29387.39600281585| 798869.5328331633|\n",
      "| 68789.32900775905| 5.969800580150023| 7.0023266199799705|                   4.05|  36183.2878037408|  1232156.01224821|\n",
      "| 81885.92718409566| 4.423671789897876|  8.167688003472351|                    6.1| 40149.96574921337|1545154.8126419624|\n",
      "| 68789.32900775905| 5.969800580150023| 7.0023266199799705|                   4.05|  36183.2878037408|  1232156.01224821|\n",
      "+------------------+------------------+-------------------+-----------------------+------------------+------------------+\n",
      "only showing top 20 rows\n",
      "\n"
     ]
    }
   ],
   "source": [
    "model_final.show()"
   ]
  },
  {
   "cell_type": "code",
   "execution_count": 11,
   "metadata": {},
   "outputs": [
    {
     "data": {
      "text/plain": [
       "0"
      ]
     },
     "execution_count": 11,
     "metadata": {},
     "output_type": "execute_result"
    }
   ],
   "source": [
    "model_final.map(x=>x.anyNull).filter($\"value\" === true).count"
   ]
  },
  {
   "cell_type": "markdown",
   "metadata": {},
   "source": [
    "# Model building using Linear Regression"
   ]
  },
  {
   "cell_type": "markdown",
   "metadata": {},
   "source": [
    "## using Vector Assemble \n",
    "- We need to convert all our  columns other than label(Predicted/dependend variable) as a vector features"
   ]
  },
  {
   "cell_type": "code",
   "execution_count": 12,
   "metadata": {},
   "outputs": [
    {
     "data": {
      "text/plain": [
       "assembler = vecAssembler_6f97ae7e5442\n"
      ]
     },
     "metadata": {},
     "output_type": "display_data"
    },
    {
     "data": {
      "text/plain": [
       "vecAssembler_6f97ae7e5442"
      ]
     },
     "execution_count": 12,
     "metadata": {},
     "output_type": "execute_result"
    }
   ],
   "source": [
    "val assembler = new VectorAssembler().setInputCols(model_final.columns.filter(!_.contains(\"label\")))\n",
    "                                .setOutputCol(\"features\")"
   ]
  },
  {
   "cell_type": "markdown",
   "metadata": {},
   "source": [
    "### using transformation, write the data in to a file in the format LIBSVM, so that Our ML model works faster with this format"
   ]
  },
  {
   "cell_type": "code",
   "execution_count": 14,
   "metadata": {},
   "outputs": [
    {
     "data": {
      "text/plain": [
       "lastException: Throwable = null\n",
       "output: Unit = ()\n"
      ]
     },
     "metadata": {},
     "output_type": "display_data"
    }
   ],
   "source": [
    "val output = assembler.transform(model_final).select($\"label\",$\"features\")\n",
    "            .write.format(\"libsvm\").save(\"/user/viswatejaster9073/ML/libdata.txt\")"
   ]
  },
  {
   "cell_type": "markdown",
   "metadata": {},
   "source": [
    "### here we are reading the file which we wrote as LIBSVM format"
   ]
  },
  {
   "cell_type": "code",
   "execution_count": 15,
   "metadata": {},
   "outputs": [
    {
     "data": {
      "text/plain": [
       "model_training = [label: double, features: vector]\n"
      ]
     },
     "metadata": {},
     "output_type": "display_data"
    },
    {
     "data": {
      "text/plain": [
       "[label: double, features: vector]"
      ]
     },
     "execution_count": 15,
     "metadata": {},
     "output_type": "execute_result"
    }
   ],
   "source": [
    "val model_training = spark.read.format(\"libsvm\").load(\"/user/viswatejaster9073/ML/libdata.txt\")"
   ]
  },
  {
   "cell_type": "markdown",
   "metadata": {},
   "source": [
    "### If you see the below printSchema result you can see features column added as vector type"
   ]
  },
  {
   "cell_type": "code",
   "execution_count": 16,
   "metadata": {},
   "outputs": [
    {
     "name": "stdout",
     "output_type": "stream",
     "text": [
      "root\n",
      " |-- label: double (nullable = true)\n",
      " |-- features: vector (nullable = true)\n",
      "\n"
     ]
    }
   ],
   "source": [
    "model_training.printSchema"
   ]
  },
  {
   "cell_type": "code",
   "execution_count": 17,
   "metadata": {},
   "outputs": [
    {
     "name": "stdout",
     "output_type": "stream",
     "text": [
      "+------------------+--------------------+\n",
      "|             label|            features|\n",
      "+------------------+--------------------+\n",
      "|1059033.5578701235|(5,[0,1,2,3,4],[7...|\n",
      "|  1232156.01224821|(5,[0,1,2,3,4],[6...|\n",
      "|  1505890.91484695|(5,[0,1,2,3,4],[7...|\n",
      "|  1232156.01224821|(5,[0,1,2,3,4],[6...|\n",
      "|1058987.9878760849|(5,[0,1,2,3,4],[6...|\n",
      "|  1232156.01224821|(5,[0,1,2,3,4],[6...|\n",
      "|1260616.8066294468|(5,[0,1,2,3,4],[6...|\n",
      "|  1232156.01224821|(5,[0,1,2,3,4],[6...|\n",
      "| 630943.4893385402|(5,[0,1,2,3,4],[5...|\n",
      "|  1232156.01224821|(5,[0,1,2,3,4],[6...|\n",
      "|1068138.0743935304|(5,[0,1,2,3,4],[8...|\n",
      "|  1232156.01224821|(5,[0,1,2,3,4],[6...|\n",
      "|1502055.8173744078|(5,[0,1,2,3,4],[6...|\n",
      "|  1232156.01224821|(5,[0,1,2,3,4],[6...|\n",
      "|1573936.5644777215|(5,[0,1,2,3,4],[7...|\n",
      "|  1232156.01224821|(5,[0,1,2,3,4],[6...|\n",
      "| 798869.5328331633|(5,[0,1,2,3,4],[5...|\n",
      "|  1232156.01224821|(5,[0,1,2,3,4],[6...|\n",
      "|1545154.8126419624|(5,[0,1,2,3,4],[8...|\n",
      "|  1232156.01224821|(5,[0,1,2,3,4],[6...|\n",
      "+------------------+--------------------+\n",
      "only showing top 20 rows\n",
      "\n"
     ]
    }
   ],
   "source": [
    "model_training.show()"
   ]
  },
  {
   "cell_type": "markdown",
   "metadata": {},
   "source": [
    "# We are using Linear Regression as our ML model"
   ]
  },
  {
   "cell_type": "code",
   "execution_count": 18,
   "metadata": {},
   "outputs": [
    {
     "data": {
      "text/plain": [
       "lg = linReg_038be81e87c7\n"
      ]
     },
     "metadata": {},
     "output_type": "display_data"
    },
    {
     "data": {
      "text/plain": [
       "linReg_038be81e87c7"
      ]
     },
     "execution_count": 18,
     "metadata": {},
     "output_type": "execute_result"
    }
   ],
   "source": [
    "val lg = new LinearRegression()"
   ]
  },
  {
   "cell_type": "markdown",
   "metadata": {},
   "source": [
    "### creating test and train data with 70% as training and 30% as test data"
   ]
  },
  {
   "cell_type": "code",
   "execution_count": 19,
   "metadata": {},
   "outputs": [
    {
     "data": {
      "text/plain": [
       "train = [label: double, features: vector]\n",
       "test = [label: double, features: vector]\n"
      ]
     },
     "metadata": {},
     "output_type": "display_data"
    },
    {
     "data": {
      "text/plain": [
       "[label: double, features: vector]"
      ]
     },
     "execution_count": 19,
     "metadata": {},
     "output_type": "execute_result"
    }
   ],
   "source": [
    "val Array(train,test) = model_training.randomSplit(Array(0.7,0.3),seed=123)"
   ]
  },
  {
   "cell_type": "code",
   "execution_count": 68,
   "metadata": {},
   "outputs": [
    {
     "data": {
      "text/plain": [
       "6948"
      ]
     },
     "execution_count": 68,
     "metadata": {},
     "output_type": "execute_result"
    }
   ],
   "source": [
    "train.count()"
   ]
  },
  {
   "cell_type": "code",
   "execution_count": 69,
   "metadata": {},
   "outputs": [
    {
     "data": {
      "text/plain": [
       "3052"
      ]
     },
     "execution_count": 69,
     "metadata": {},
     "output_type": "execute_result"
    }
   ],
   "source": [
    "test.count()"
   ]
  },
  {
   "cell_type": "markdown",
   "metadata": {},
   "source": [
    "### Creating pipelines"
   ]
  },
  {
   "cell_type": "code",
   "execution_count": 24,
   "metadata": {},
   "outputs": [
    {
     "data": {
      "text/plain": [
       "pipeline = pipeline_5a794761781f\n"
      ]
     },
     "metadata": {},
     "output_type": "display_data"
    },
    {
     "data": {
      "text/plain": [
       "lastException: Throwable = null\n"
      ]
     },
     "metadata": {},
     "output_type": "display_data"
    },
    {
     "data": {
      "text/plain": [
       "pipeline_5a794761781f"
      ]
     },
     "execution_count": 24,
     "metadata": {},
     "output_type": "execute_result"
    }
   ],
   "source": [
    "val pipeline = new Pipeline().setStages(Array(lg))"
   ]
  },
  {
   "cell_type": "code",
   "execution_count": 25,
   "metadata": {},
   "outputs": [
    {
     "data": {
      "text/plain": [
       "model_lg = pipeline_5a794761781f\n"
      ]
     },
     "metadata": {},
     "output_type": "display_data"
    },
    {
     "data": {
      "text/plain": [
       "pipeline_5a794761781f"
      ]
     },
     "execution_count": 25,
     "metadata": {},
     "output_type": "execute_result"
    }
   ],
   "source": [
    "val model_lg  = pipeline.fit(train)"
   ]
  },
  {
   "cell_type": "markdown",
   "metadata": {},
   "source": [
    "### Testing Our model with test data"
   ]
  },
  {
   "cell_type": "code",
   "execution_count": 30,
   "metadata": {},
   "outputs": [
    {
     "data": {
      "text/plain": [
       "results = [label: double, features: vector ... 1 more field]\n"
      ]
     },
     "metadata": {},
     "output_type": "display_data"
    },
    {
     "data": {
      "text/plain": [
       "[label: double, features: vector ... 1 more field]"
      ]
     },
     "execution_count": 30,
     "metadata": {},
     "output_type": "execute_result"
    }
   ],
   "source": [
    "val results = model_lg.transform(test)"
   ]
  },
  {
   "cell_type": "markdown",
   "metadata": {},
   "source": [
    "### If you see the below result column prediction is added which is the predicted values on our test data"
   ]
  },
  {
   "cell_type": "code",
   "execution_count": 32,
   "metadata": {},
   "outputs": [
    {
     "name": "stdout",
     "output_type": "stream",
     "text": [
      "root\n",
      " |-- label: double (nullable = true)\n",
      " |-- features: vector (nullable = true)\n",
      " |-- prediction: double (nullable = false)\n",
      "\n"
     ]
    }
   ],
   "source": [
    "results.printSchema"
   ]
  },
  {
   "cell_type": "markdown",
   "metadata": {},
   "source": [
    "### We need only label(Price) and prediction(Predicted price) columns to check the metrics "
   ]
  },
  {
   "cell_type": "code",
   "execution_count": 34,
   "metadata": {},
   "outputs": [
    {
     "data": {
      "text/plain": [
       "final_result = [prediction: double, label: double]\n"
      ]
     },
     "metadata": {},
     "output_type": "display_data"
    },
    {
     "data": {
      "text/plain": [
       "[prediction: double, label: double]"
      ]
     },
     "execution_count": 34,
     "metadata": {},
     "output_type": "execute_result"
    }
   ],
   "source": [
    "val final_result = results.select($\"prediction\",$\"label\")"
   ]
  },
  {
   "cell_type": "markdown",
   "metadata": {},
   "source": [
    "# checking model accurecy using metrics like RMSE, R-square,MSE\n",
    "- Refer http://waytodatascience.com/calculating-accuracy/"
   ]
  },
  {
   "cell_type": "code",
   "execution_count": 35,
   "metadata": {},
   "outputs": [
    {
     "data": {
      "text/plain": [
       "modelev: (metric: String)Double\n"
      ]
     },
     "metadata": {},
     "output_type": "display_data"
    }
   ],
   "source": [
    "def modelev(metric: String): Double = {\n",
    " val metics = new RegressionEvaluator().setMetricName(metric).\n",
    "         setPredictionCol(\"prediction\").\n",
    "         setLabelCol(\"label\")\n",
    "\n",
    "    metics.evaluate(final_result) \n",
    "\n",
    "}"
   ]
  },
  {
   "cell_type": "code",
   "execution_count": 36,
   "metadata": {},
   "outputs": [
    {
     "name": "stdout",
     "output_type": "stream",
     "text": [
      "RMSE = 70629.57227802856\n",
      "MSE = 4.98853648017726E9\n",
      "R-Square = 0.9219338665184864\n",
      "MAE = 41423.54571564162\n"
     ]
    }
   ],
   "source": [
    "println(\"RMSE = \" +modelev(\"rmse\"))\n",
    "println(\"MSE = \" +modelev(\"mse\"))\n",
    "println(\"R-Square = \" +modelev(\"r2\"))\n",
    "println(\"MAE = \" +modelev(\"mae\"))"
   ]
  },
  {
   "cell_type": "markdown",
   "metadata": {},
   "source": [
    "# we can save our model and we can use for production purpose"
   ]
  },
  {
   "cell_type": "code",
   "execution_count": 39,
   "metadata": {},
   "outputs": [],
   "source": [
    "model_lg.write.overwrite.save(\"/user/viswatejaster9073/ML/Lg_model\")"
   ]
  },
  {
   "cell_type": "code",
   "execution_count": 38,
   "metadata": {},
   "outputs": [
    {
     "data": {
      "text/plain": [
       "pipeline_5a794761781f"
      ]
     },
     "execution_count": 38,
     "metadata": {},
     "output_type": "execute_result"
    }
   ],
   "source": [
    "model_lg"
   ]
  },
  {
   "cell_type": "code",
   "execution_count": null,
   "metadata": {},
   "outputs": [],
   "source": []
  }
 ],
 "metadata": {
  "kernelspec": {
   "display_name": "Apache Toree - Scala",
   "language": "scala",
   "name": "apache_toree_scala"
  },
  "language_info": {
   "codemirror_mode": "text/x-scala",
   "file_extension": ".scala",
   "mimetype": "text/x-scala",
   "name": "scala",
   "pygments_lexer": "scala",
   "version": "2.11.8"
  },
  "toc": {
   "base_numbering": 1,
   "nav_menu": {},
   "number_sections": true,
   "sideBar": true,
   "skip_h1_title": false,
   "title_cell": "Table of Contents",
   "title_sidebar": "Contents",
   "toc_cell": false,
   "toc_position": {},
   "toc_section_display": true,
   "toc_window_display": false
  }
 },
 "nbformat": 4,
 "nbformat_minor": 2
}
