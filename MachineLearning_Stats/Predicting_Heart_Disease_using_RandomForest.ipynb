{
 "cells": [
  {
   "cell_type": "markdown",
   "metadata": {},
   "source": [
    "# In this example we use Random forest classifier to predict the heart disease "
   ]
  },
  {
   "cell_type": "code",
   "execution_count": 1,
   "metadata": {},
   "outputs": [],
   "source": [
    "import org.apache.spark.{SparkConf, SparkContext}\n",
    "import org.apache.spark.sql._\n",
    "import org.apache.spark.ml.feature._\n",
    "import org.apache.spark.ml._\n",
    "import org.apache.spark.sql.types.{StructType, StructField, StringType, IntegerType,DoubleType};\n",
    "import org.apache.spark.ml.linalg.Vectors\n",
    "import org.apache.spark.sql._\n",
    "import org.apache.spark.ml.feature.{VectorAssembler}\n",
    "import org.apache.spark.ml.Pipeline\n",
    "import org.apache.spark.ml.classification.{DecisionTreeClassificationModel,DecisionTreeClassifier}\n",
    "import org.apache.spark.ml.classification.{RandomForestClassificationModel, RandomForestClassifier}\n",
    "import org.apache.spark.ml.evaluation.MulticlassClassificationEvaluator\n",
    "import org.apache.spark.ml.tuning.{CrossValidator, ParamGridBuilder}\n",
    "import org.apache.spark.mllib.evaluation.MulticlassMetrics"
   ]
  },
  {
   "cell_type": "code",
   "execution_count": 2,
   "metadata": {},
   "outputs": [
    {
     "data": {
      "text/plain": [
       "conf = org.apache.spark.SparkConf@251ac71f\n",
       "sc = org.apache.spark.SparkContext@5e9d7da5\n",
       "spark = org.apache.spark.sql.SQLContext@7ccf327e\n"
      ]
     },
     "metadata": {},
     "output_type": "display_data"
    },
    {
     "data": {
      "text/plain": [
       "warning: there was one deprecation warning; re-run with -deprecation for details\n"
      ]
     },
     "metadata": {},
     "output_type": "display_data"
    },
    {
     "data": {
      "text/plain": [
       "org.apache.spark.sql.SQLContext@7ccf327e"
      ]
     },
     "execution_count": 2,
     "metadata": {},
     "output_type": "execute_result"
    }
   ],
   "source": [
    "val conf = new SparkConf().setAppName(\"Predicting_Heart_Heart_Disease\")\n",
    "val sc = new SparkContext(conf)\n",
    "val spark = new SQLContext(sc) "
   ]
  },
  {
   "cell_type": "code",
   "execution_count": 3,
   "metadata": {},
   "outputs": [
    {
     "data": {
      "text/plain": [
       "schema = StructType(StructField(age,DoubleType,true), StructField(sex,DoubleType,true), StructField(cp,DoubleType,true), StructField(trestbps,DoubleType,true), StructField(chol,DoubleType,true), StructField(fbs,DoubleType,true), StructField(restecg,DoubleType,true), StructField(thalach,DoubleType,true), StructField(exang,DoubleType,true), StructField(oldpeak,DoubleType,true), StructField(slope,DoubleType,true), StructField(ca,DoubleType,true), StructField(thal,DoubleType,true), StructField(num,DoubleType,true))\n"
      ]
     },
     "metadata": {},
     "output_type": "display_data"
    },
    {
     "data": {
      "text/plain": [
       "StructType(StructField(age,DoubleType,true), StructField(sex,DoubleType,true), StructField(cp,DoubleType,true), StructField(trestbps,DoubleType,true), StructField(chol,DoubleType,true), StructField(fbs,DoubleType,true), StructField(restecg,DoubleType,true), StructField(thalach,DoubleType,true), StructField(exang,DoubleType,true), StructField(oldpeak,DoubleType,true), StructField(slope,DoubleType,true), StructField(ca,DoubleType,true), StructField(thal,DoubleType,true), StructField(num,DoubleType,true))"
      ]
     },
     "execution_count": 3,
     "metadata": {},
     "output_type": "execute_result"
    }
   ],
   "source": [
    "val schema = StructType(Seq(StructField(\"age\",DoubleType,true), StructField(\"sex\",DoubleType,true), \n",
    "               StructField(\"cp\",DoubleType,true), \n",
    "               StructField(\"trestbps\",DoubleType,true), StructField(\"chol\",DoubleType,true), \n",
    "               StructField(\"fbs\",DoubleType,true), StructField(\"restecg\",DoubleType,true), \n",
    "               StructField(\"thalach\",DoubleType,true), StructField(\"exang\",DoubleType,true),\n",
    "               StructField(\"oldpeak\",DoubleType,true),StructField(\"slope\",DoubleType,true),\n",
    "               StructField(\"ca\",DoubleType,true) ,StructField(\"thal\",DoubleType,true),\n",
    "               StructField(\"num\",DoubleType,true)))"
   ]
  },
  {
   "cell_type": "code",
   "execution_count": 4,
   "metadata": {},
   "outputs": [
    {
     "data": {
      "text/plain": [
       "data = [age: double, sex: double ... 12 more fields]\n"
      ]
     },
     "metadata": {},
     "output_type": "display_data"
    },
    {
     "data": {
      "text/plain": [
       "[age: double, sex: double ... 12 more fields]"
      ]
     },
     "execution_count": 4,
     "metadata": {},
     "output_type": "execute_result"
    }
   ],
   "source": [
    "val data = spark.read.format(\"csv\")\n",
    "                .option(\"header\",\"false\")\n",
    "                .option(\"delimiter\", \",\")\n",
    "                .schema(schema)\n",
    "                .load(\"/user/viswatejaster9073/ML/heart-disease.csv\")"
   ]
  },
  {
   "cell_type": "code",
   "execution_count": 7,
   "metadata": {},
   "outputs": [
    {
     "name": "stdout",
     "output_type": "stream",
     "text": [
      "+----+---+---+--------+-----+---+-------+-------+-----+-------+-----+---+----+---+\n",
      "| age|sex| cp|trestbps| chol|fbs|restecg|thalach|exang|oldpeak|slope| ca|thal|num|\n",
      "+----+---+---+--------+-----+---+-------+-------+-----+-------+-----+---+----+---+\n",
      "|63.0|1.0|1.0|   145.0|233.0|1.0|    2.0|  150.0|  0.0|    2.3|  3.0|0.0| 6.0|0.0|\n",
      "|67.0|1.0|4.0|   160.0|286.0|0.0|    2.0|  108.0|  1.0|    1.5|  2.0|3.0| 3.0|2.0|\n",
      "|67.0|1.0|4.0|   120.0|229.0|0.0|    2.0|  129.0|  1.0|    2.6|  2.0|2.0| 7.0|1.0|\n",
      "|37.0|1.0|3.0|   130.0|250.0|0.0|    0.0|  187.0|  0.0|    3.5|  3.0|0.0| 3.0|0.0|\n",
      "|41.0|0.0|2.0|   130.0|204.0|0.0|    2.0|  172.0|  0.0|    1.4|  1.0|0.0| 3.0|0.0|\n",
      "+----+---+---+--------+-----+---+-------+-------+-----+-------+-----+---+----+---+\n",
      "only showing top 5 rows\n",
      "\n"
     ]
    }
   ],
   "source": [
    "data.show(5)"
   ]
  },
  {
   "cell_type": "code",
   "execution_count": 11,
   "metadata": {},
   "outputs": [
    {
     "data": {
      "text/plain": [
       "303"
      ]
     },
     "execution_count": 11,
     "metadata": {},
     "output_type": "execute_result"
    }
   ],
   "source": [
    "data.count()"
   ]
  },
  {
   "cell_type": "code",
   "execution_count": 5,
   "metadata": {},
   "outputs": [
    {
     "data": {
      "text/plain": [
       "6"
      ]
     },
     "execution_count": 5,
     "metadata": {},
     "output_type": "execute_result"
    }
   ],
   "source": [
    "data.map(x=>x.anyNull).filter($\"value\" === true).count"
   ]
  },
  {
   "cell_type": "code",
   "execution_count": 6,
   "metadata": {},
   "outputs": [
    {
     "data": {
      "text/plain": [
       "f_data = [age: double, sex: double ... 12 more fields]\n"
      ]
     },
     "metadata": {},
     "output_type": "display_data"
    },
    {
     "data": {
      "text/plain": [
       "[age: double, sex: double ... 12 more fields]"
      ]
     },
     "execution_count": 6,
     "metadata": {},
     "output_type": "execute_result"
    }
   ],
   "source": [
    "val f_data=data.na.drop()"
   ]
  },
  {
   "cell_type": "code",
   "execution_count": 7,
   "metadata": {},
   "outputs": [
    {
     "data": {
      "text/plain": [
       "0"
      ]
     },
     "execution_count": 7,
     "metadata": {},
     "output_type": "execute_result"
    }
   ],
   "source": [
    "f_data.map(x=>x.anyNull).filter($\"value\" === true).count"
   ]
  },
  {
   "cell_type": "markdown",
   "metadata": {},
   "source": [
    "# Checking the count of the heart patents based on Sec\n",
    "- In our case we have a Sex column with the value 1 and 0 as Male and Female"
   ]
  },
  {
   "cell_type": "code",
   "execution_count": 8,
   "metadata": {},
   "outputs": [
    {
     "data": {
      "text/plain": [
       "heart_patents_count = [sex: double, sum(num): double]\n"
      ]
     },
     "metadata": {},
     "output_type": "display_data"
    },
    {
     "data": {
      "text/plain": [
       "[sex: double, sum(num): double]"
      ]
     },
     "execution_count": 8,
     "metadata": {},
     "output_type": "execute_result"
    }
   ],
   "source": [
    "val heart_patents_count = f_data.select($\"sex\",$\"num\").groupBy(\"sex\").sum(\"num\")"
   ]
  },
  {
   "cell_type": "markdown",
   "metadata": {},
   "source": [
    "## As per the below results we have 52 Female and 229 Male patents who are attacked with heart disease"
   ]
  },
  {
   "cell_type": "code",
   "execution_count": 9,
   "metadata": {},
   "outputs": [
    {
     "name": "stdout",
     "output_type": "stream",
     "text": [
      "+---+--------+\n",
      "|sex|sum(num)|\n",
      "+---+--------+\n",
      "|0.0|    52.0|\n",
      "|1.0|   229.0|\n",
      "+---+--------+\n",
      "\n"
     ]
    }
   ],
   "source": [
    "heart_patents_count.show()"
   ]
  },
  {
   "cell_type": "markdown",
   "metadata": {},
   "source": [
    "# In our case we need to predict the value of num, so lets name it as label for our conveneant "
   ]
  },
  {
   "cell_type": "code",
   "execution_count": 7,
   "metadata": {},
   "outputs": [
    {
     "data": {
      "text/plain": [
       "f1_data = [age: double, sex: double ... 12 more fields]\n"
      ]
     },
     "metadata": {},
     "output_type": "display_data"
    },
    {
     "data": {
      "text/plain": [
       "[age: double, sex: double ... 12 more fields]"
      ]
     },
     "execution_count": 7,
     "metadata": {},
     "output_type": "execute_result"
    }
   ],
   "source": [
    "val f1_data = f_data.withColumnRenamed(\"num\",\"label\")"
   ]
  },
  {
   "cell_type": "code",
   "execution_count": 11,
   "metadata": {},
   "outputs": [
    {
     "name": "stdout",
     "output_type": "stream",
     "text": [
      "root\n",
      " |-- age: double (nullable = true)\n",
      " |-- sex: double (nullable = true)\n",
      " |-- cp: double (nullable = true)\n",
      " |-- trestbps: double (nullable = true)\n",
      " |-- chol: double (nullable = true)\n",
      " |-- fbs: double (nullable = true)\n",
      " |-- restecg: double (nullable = true)\n",
      " |-- thalach: double (nullable = true)\n",
      " |-- exang: double (nullable = true)\n",
      " |-- oldpeak: double (nullable = true)\n",
      " |-- slope: double (nullable = true)\n",
      " |-- ca: double (nullable = true)\n",
      " |-- thal: double (nullable = true)\n",
      " |-- label: double (nullable = true)\n",
      "\n"
     ]
    }
   ],
   "source": [
    "f1_data.printSchema"
   ]
  },
  {
   "cell_type": "markdown",
   "metadata": {},
   "source": [
    "# Vectorize the features\n",
    "- Once we make a Vector from our features we are writing the data in to a file with LIBS"
   ]
  },
  {
   "cell_type": "code",
   "execution_count": 10,
   "metadata": {},
   "outputs": [
    {
     "data": {
      "text/plain": [
       "assembler = vecAssembler_9cae1a8f8637\n"
      ]
     },
     "metadata": {},
     "output_type": "display_data"
    },
    {
     "data": {
      "text/plain": [
       "lastException: Throwable = null\n"
      ]
     },
     "metadata": {},
     "output_type": "display_data"
    },
    {
     "data": {
      "text/plain": [
       "vecAssembler_9cae1a8f8637"
      ]
     },
     "execution_count": 10,
     "metadata": {},
     "output_type": "execute_result"
    }
   ],
   "source": [
    "val assembler = new VectorAssembler().setInputCols(f_data.columns.filter(!_.contains(\"num\"))).setOutputCol(\"features\")"
   ]
  },
  {
   "cell_type": "code",
   "execution_count": 9,
   "metadata": {},
   "outputs": [
    {
     "data": {
      "text/plain": [
       "Name: org.apache.spark.sql.AnalysisException\n",
       "Message: path hdfs://ip-172-31-35-141.ec2.internal:8020/user/viswatejaster9073/ML/heart_libsvm.txt already exists.;\n",
       "StackTrace:   at org.apache.spark.sql.execution.datasources.InsertIntoHadoopFsRelationCommand.run(InsertIntoHadoopFsRelationCommand.scala:109)\n",
       "  at org.apache.spark.sql.execution.command.DataWritingCommandExec.sideEffectResult$lzycompute(commands.scala:104)\n",
       "  at org.apache.spark.sql.execution.command.DataWritingCommandExec.sideEffectResult(commands.scala:102)\n",
       "  at org.apache.spark.sql.execution.command.DataWritingCommandExec.doExecute(commands.scala:122)\n",
       "  at org.apache.spark.sql.execution.SparkPlan$$anonfun$execute$1.apply(SparkPlan.scala:131)\n",
       "  at org.apache.spark.sql.execution.SparkPlan$$anonfun$execute$1.apply(SparkPlan.scala:127)\n",
       "  at org.apache.spark.sql.execution.SparkPlan$$anonfun$executeQuery$1.apply(SparkPlan.scala:155)\n",
       "  at org.apache.spark.rdd.RDDOperationScope$.withScope(RDDOperationScope.scala:151)\n",
       "  at org.apache.spark.sql.execution.SparkPlan.executeQuery(SparkPlan.scala:152)\n",
       "  at org.apache.spark.sql.execution.SparkPlan.execute(SparkPlan.scala:127)\n",
       "  at org.apache.spark.sql.execution.QueryExecution.toRdd$lzycompute(QueryExecution.scala:80)\n",
       "  at org.apache.spark.sql.execution.QueryExecution.toRdd(QueryExecution.scala:80)\n",
       "  at org.apache.spark.sql.DataFrameWriter$$anonfun$runCommand$1.apply(DataFrameWriter.scala:654)\n",
       "  at org.apache.spark.sql.DataFrameWriter$$anonfun$runCommand$1.apply(DataFrameWriter.scala:654)\n",
       "  at org.apache.spark.sql.execution.SQLExecution$.withNewExecutionId(SQLExecution.scala:77)\n",
       "  at org.apache.spark.sql.DataFrameWriter.runCommand(DataFrameWriter.scala:654)\n",
       "  at org.apache.spark.sql.DataFrameWriter.saveToV1Source(DataFrameWriter.scala:273)\n",
       "  at org.apache.spark.sql.DataFrameWriter.save(DataFrameWriter.scala:267)\n",
       "  at org.apache.spark.sql.DataFrameWriter.save(DataFrameWriter.scala:225)"
      ]
     },
     "execution_count": 9,
     "metadata": {},
     "output_type": "execute_result"
    }
   ],
   "source": [
    "val output = assembler.transform(f1_data).select($\"label\",$\"features\").\n",
    "                write.format(\"libsvm\").save(\"/user/viswatejaster9073/ML/heart_libsvm.txt\")"
   ]
  },
  {
   "cell_type": "markdown",
   "metadata": {},
   "source": [
    "## Read the file that we stored as libsvm format"
   ]
  },
  {
   "cell_type": "code",
   "execution_count": 11,
   "metadata": {},
   "outputs": [
    {
     "data": {
      "text/plain": [
       "model_data = [label: double, features: vector]\n"
      ]
     },
     "metadata": {},
     "output_type": "display_data"
    },
    {
     "data": {
      "text/plain": [
       "[label: double, features: vector]"
      ]
     },
     "execution_count": 11,
     "metadata": {},
     "output_type": "execute_result"
    }
   ],
   "source": [
    "val model_data = spark.read.format(\"libsvm\").load(\"/user/viswatejaster9073/ML/heart_libsvm.txt\")"
   ]
  },
  {
   "cell_type": "code",
   "execution_count": 10,
   "metadata": {},
   "outputs": [
    {
     "name": "stdout",
     "output_type": "stream",
     "text": [
      "root\n",
      " |-- label: double (nullable = true)\n",
      " |-- features: vector (nullable = true)\n",
      "\n"
     ]
    }
   ],
   "source": [
    "model_data.printSchema"
   ]
  },
  {
   "cell_type": "markdown",
   "metadata": {},
   "source": [
    "# Split the Data for train and test data"
   ]
  },
  {
   "cell_type": "code",
   "execution_count": 12,
   "metadata": {},
   "outputs": [
    {
     "data": {
      "text/plain": [
       "train = [label: double, features: vector]\n",
       "test1 = [label: double, features: vector]\n"
      ]
     },
     "metadata": {},
     "output_type": "display_data"
    },
    {
     "data": {
      "text/plain": [
       "[label: double, features: vector]"
      ]
     },
     "execution_count": 12,
     "metadata": {},
     "output_type": "execute_result"
    }
   ],
   "source": [
    "val Array(train,test1) = model_data.randomSplit(Array(0.7,0.3),seed=1234)"
   ]
  },
  {
   "cell_type": "code",
   "execution_count": 34,
   "metadata": {},
   "outputs": [
    {
     "data": {
      "text/plain": [
       "216"
      ]
     },
     "execution_count": 34,
     "metadata": {},
     "output_type": "execute_result"
    }
   ],
   "source": [
    "train.count()"
   ]
  },
  {
   "cell_type": "code",
   "execution_count": 35,
   "metadata": {},
   "outputs": [
    {
     "data": {
      "text/plain": [
       "81"
      ]
     },
     "execution_count": 35,
     "metadata": {},
     "output_type": "execute_result"
    }
   ],
   "source": [
    "test1.count()"
   ]
  },
  {
   "cell_type": "markdown",
   "metadata": {},
   "source": [
    "# Model using Random Forest with the help of Cross Validation"
   ]
  },
  {
   "cell_type": "code",
   "execution_count": 13,
   "metadata": {},
   "outputs": [
    {
     "data": {
      "text/plain": [
       "nFolds = 10\n",
       "NumTrees = 30\n",
       "mdepth = 5\n",
       "Impurity = gini\n"
      ]
     },
     "metadata": {},
     "output_type": "display_data"
    },
    {
     "data": {
      "text/plain": [
       "gini"
      ]
     },
     "execution_count": 13,
     "metadata": {},
     "output_type": "execute_result"
    }
   ],
   "source": [
    "val nFolds: Int = 10\n",
    "val NumTrees: Int = 30\n",
    "val mdepth: Int = 5\n",
    "val Impurity:String = \"gini\""
   ]
  },
  {
   "cell_type": "code",
   "execution_count": 14,
   "metadata": {},
   "outputs": [
    {
     "data": {
      "text/plain": [
       "rf_tree = rfc_ab1cc89d976b\n"
      ]
     },
     "metadata": {},
     "output_type": "display_data"
    },
    {
     "data": {
      "text/plain": [
       "rfc_ab1cc89d976b"
      ]
     },
     "execution_count": 14,
     "metadata": {},
     "output_type": "execute_result"
    }
   ],
   "source": [
    "val rf_tree = new RandomForestClassifier()\n",
    "  .setLabelCol(\"label\")\n",
    "  .setFeaturesCol(\"features\")\n",
    "  .setNumTrees(NumTrees).setMaxDepth(mdepth).setImpurity(Impurity)"
   ]
  },
  {
   "cell_type": "code",
   "execution_count": 15,
   "metadata": {},
   "outputs": [
    {
     "data": {
      "text/plain": [
       "pipeline = pipeline_3da361fcc643\n"
      ]
     },
     "metadata": {},
     "output_type": "display_data"
    },
    {
     "data": {
      "text/plain": [
       "pipeline_3da361fcc643"
      ]
     },
     "execution_count": 15,
     "metadata": {},
     "output_type": "execute_result"
    }
   ],
   "source": [
    "val pipeline = new Pipeline().setStages(Array(rf_tree)) "
   ]
  },
  {
   "cell_type": "markdown",
   "metadata": {},
   "source": [
    "### We are building a parameter Grid with mutiple combinaitons for number of trees, depth of each tree, and impurtiy "
   ]
  },
  {
   "cell_type": "code",
   "execution_count": 16,
   "metadata": {},
   "outputs": [
    {
     "data": {
      "text/plain": [
       "paramGrid = \n"
      ]
     },
     "metadata": {},
     "output_type": "display_data"
    },
    {
     "data": {
      "text/plain": [
       "Array({\n",
       "\trfc_ab1cc89d976b-impurity: entropy,\n",
       "\trfc_ab1cc89d976b-maxDepth: 2,\n",
       "\trfc_ab1cc89d976b-numTrees: 2\n",
       "}, {\n",
       "\trfc_ab1cc89d976b-impurity: gini,\n",
       "\trfc_ab1cc89d976b-maxDepth: 2,\n",
       "\trfc_ab1cc89d976b-numTrees: 2\n",
       "}, {\n",
       "\trfc_ab1cc89d976b-impurity: entropy,\n",
       "\trfc_ab1cc89d976b-maxDepth: 2,\n",
       "\trfc_ab1cc89d976b-numTrees: 3\n",
       "}, {\n",
       "\trfc_ab1cc89d976b-impurity: gini,\n",
       "\trfc_ab1cc89d976b-maxDepth: 2,\n",
       "\trfc_ab1cc89d976b-numTrees: 3\n",
       "}, {\n",
       "\trfc_ab1cc89d976b-impurity: entropy,\n",
       "\trfc_ab1cc89d976b-maxDepth: 2,\n",
       "\trfc_ab1cc89d976b-numTrees: 4\n",
       "}, {\n",
       "\trfc_ab1cc89d976b-impurity: gini,\n",
       "\trfc_ab1cc89d976b-maxDepth: 2,\n",
       "\trfc_ab1cc89d976b-numTrees: 4\n",
       "}, {\n",
       "\trfc_ab1cc89d976b-impurity: entropy,\n",
       "\trfc_ab1cc89d976b-maxDepth: 2,\n",
       "\trfc_ab1cc89d976b-numTrees: 5\n",
       "}, {\n",
       "\trfc_ab1cc89d976b-impu...\n"
      ]
     },
     "metadata": {},
     "output_type": "display_data"
    },
    {
     "data": {
      "text/plain": [
       "[{\n",
       "\trfc_ab1cc89d976b-impurity: entropy,\n",
       "\trfc_ab1cc89d976b-maxDepth: 2,\n",
       "\trfc_ab1cc89d976b-numTrees: 2\n",
       "}, {\n",
       "\trfc_ab1cc89d976b-impurity: gini,\n",
       "\trfc_ab1cc89d976b-maxDepth: 2,\n",
       "\trfc_ab1cc89d976b-numTrees: 2\n",
       "}, {\n",
       "\trfc_ab1cc89d976b-impurity: entropy,\n",
       "\trfc_ab1cc89d976b-maxDepth: 2,\n",
       "\trfc_ab1cc89d976b-numTrees: 3\n",
       "}, {\n",
       "\trfc_ab1cc89d976b-impurity: gini,\n",
       "\trfc_ab1cc89d976b-maxDepth: 2,\n",
       "\trfc_ab1cc89d976b-numTrees: 3\n",
       "}, {\n",
       "\trfc_ab1cc89d976b-impurity: entropy,\n",
       "\trfc_ab1cc89d976b-maxDepth: 2,\n",
       "\trfc_ab1cc89d976b-numTrees: 4\n",
       "}, {\n",
       "\trfc_ab1cc89d976b-impurity: gini,\n",
       "\trfc_ab1cc89d976b-maxDepth: 2,\n",
       "\trfc_ab1cc89d976b-numTrees: 4\n",
       "}, {\n",
       "\trfc_ab1cc89d976b-impurity: entropy,\n",
       "\trfc_ab1cc89d976b-maxDepth: 2,\n",
       "\trfc_ab1cc89d976b-numTrees: 5\n",
       "}, {\n",
       "\trfc_ab1cc89d976b-impurity: gini,\n",
       "\trfc_ab1cc89d976b-maxDepth: 2,\n",
       "\trfc_ab1cc89d976b-numTrees: 5\n",
       "}, {\n",
       "\trfc_ab1cc89d976b-impurity: entropy,\n",
       "\trfc_ab1cc89d976b-maxDepth: 2,\n",
       "\trfc_ab1cc89d976b-numTrees: 6\n",
       "}, {\n",
       "\trfc_ab1cc89d976b-impurity: gini,\n",
       "\trfc_ab1cc89d976b-maxDepth: 2,\n",
       "\trfc_ab1cc89d976b-numTrees: 6\n",
       "}, {\n",
       "\trfc_ab1cc89d976b-impurity: entropy,\n",
       "\trfc_ab1cc89d976b-maxDepth: 2,\n",
       "\trfc_ab1cc89d976b-numTrees: 7\n",
       "}, {\n",
       "\trfc_ab1cc89d976b-impurity: gini,\n",
       "\trfc_ab1cc89d976b-maxDepth: 2,\n",
       "\trfc_ab1cc89d976b-numTrees: 7\n",
       "}, {\n",
       "\trfc_ab1cc89d976b-impurity: entropy,\n",
       "\trfc_ab1cc89d976b-maxDepth: 2,\n",
       "\trfc_ab1cc89d976b-numTrees: 8\n",
       "}, {\n",
       "\trfc_ab1cc89d976b-impurity: gini,\n",
       "\trfc_ab1cc89d976b-maxDepth: 2,\n",
       "\trfc_ab1cc89d976b-numTrees: 8\n",
       "}, {\n",
       "\trfc_ab1cc89d976b-impurity: entropy,\n",
       "\trfc_ab1cc89d976b-maxDepth: 3,\n",
       "\trfc_ab1cc89d976b-numTrees: 2\n",
       "}, {\n",
       "\trfc_ab1cc89d976b-impurity: gini,\n",
       "\trfc_ab1cc89d976b-maxDepth: 3,\n",
       "\trfc_ab1cc89d976b-numTrees: 2\n",
       "}, {\n",
       "\trfc_ab1cc89d976b-impurity: entropy,\n",
       "\trfc_ab1cc89d976b-maxDepth: 3,\n",
       "\trfc_ab1cc89d976b-numTrees: 3\n",
       "}, {\n",
       "\trfc_ab1cc89d976b-impurity: gini,\n",
       "\trfc_ab1cc89d976b-maxDepth: 3,\n",
       "\trfc_ab1cc89d976b-numTrees: 3\n",
       "}, {\n",
       "\trfc_ab1cc89d976b-impurity: entropy,\n",
       "\trfc_ab1cc89d976b-maxDepth: 3,\n",
       "\trfc_ab1cc89d976b-numTrees: 4\n",
       "}, {\n",
       "\trfc_ab1cc89d976b-impurity: gini,\n",
       "\trfc_ab1cc89d976b-maxDepth: 3,\n",
       "\trfc_ab1cc89d976b-numTrees: 4\n",
       "}, {\n",
       "\trfc_ab1cc89d976b-impurity: entropy,\n",
       "\trfc_ab1cc89d976b-maxDepth: 3,\n",
       "\trfc_ab1cc89d976b-numTrees: 5\n",
       "}, {\n",
       "\trfc_ab1cc89d976b-impurity: gini,\n",
       "\trfc_ab1cc89d976b-maxDepth: 3,\n",
       "\trfc_ab1cc89d976b-numTrees: 5\n",
       "}, {\n",
       "\trfc_ab1cc89d976b-impurity: entropy,\n",
       "\trfc_ab1cc89d976b-maxDepth: 3,\n",
       "\trfc_ab1cc89d976b-numTrees: 6\n",
       "}, {\n",
       "\trfc_ab1cc89d976b-impurity: gini,\n",
       "\trfc_ab1cc89d976b-maxDepth: 3,\n",
       "\trfc_ab1cc89d976b-numTrees: 6\n",
       "}, {\n",
       "\trfc_ab1cc89d976b-impurity: entropy,\n",
       "\trfc_ab1cc89d976b-maxDepth: 3,\n",
       "\trfc_ab1cc89d976b-numTrees: 7\n",
       "}, {\n",
       "\trfc_ab1cc89d976b-impurity: gini,\n",
       "\trfc_ab1cc89d976b-maxDepth: 3,\n",
       "\trfc_ab1cc89d976b-numTrees: 7\n",
       "}, {\n",
       "\trfc_ab1cc89d976b-impurity: entropy,\n",
       "\trfc_ab1cc89d976b-maxDepth: 3,\n",
       "\trfc_ab1cc89d976b-numTrees: 8\n",
       "}, {\n",
       "\trfc_ab1cc89d976b-impurity: gini,\n",
       "\trfc_ab1cc89d976b-maxDepth: 3,\n",
       "\trfc_ab1cc89d976b-numTrees: 8\n",
       "}, {\n",
       "\trfc_ab1cc89d976b-impurity: entropy,\n",
       "\trfc_ab1cc89d976b-maxDepth: 4,\n",
       "\trfc_ab1cc89d976b-numTrees: 2\n",
       "}, {\n",
       "\trfc_ab1cc89d976b-impurity: gini,\n",
       "\trfc_ab1cc89d976b-maxDepth: 4,\n",
       "\trfc_ab1cc89d976b-numTrees: 2\n",
       "}, {\n",
       "\trfc_ab1cc89d976b-impurity: entropy,\n",
       "\trfc_ab1cc89d976b-maxDepth: 4,\n",
       "\trfc_ab1cc89d976b-numTrees: 3\n",
       "}, {\n",
       "\trfc_ab1cc89d976b-impurity: gini,\n",
       "\trfc_ab1cc89d976b-maxDepth: 4,\n",
       "\trfc_ab1cc89d976b-numTrees: 3\n",
       "}, {\n",
       "\trfc_ab1cc89d976b-impurity: entropy,\n",
       "\trfc_ab1cc89d976b-maxDepth: 4,\n",
       "\trfc_ab1cc89d976b-numTrees: 4\n",
       "}, {\n",
       "\trfc_ab1cc89d976b-impurity: gini,\n",
       "\trfc_ab1cc89d976b-maxDepth: 4,\n",
       "\trfc_ab1cc89d976b-numTrees: 4\n",
       "}, {\n",
       "\trfc_ab1cc89d976b-impurity: entropy,\n",
       "\trfc_ab1cc89d976b-maxDepth: 4,\n",
       "\trfc_ab1cc89d976b-numTrees: 5\n",
       "}, {\n",
       "\trfc_ab1cc89d976b-impurity: gini,\n",
       "\trfc_ab1cc89d976b-maxDepth: 4,\n",
       "\trfc_ab1cc89d976b-numTrees: 5\n",
       "}, {\n",
       "\trfc_ab1cc89d976b-impurity: entropy,\n",
       "\trfc_ab1cc89d976b-maxDepth: 4,\n",
       "\trfc_ab1cc89d976b-numTrees: 6\n",
       "}, {\n",
       "\trfc_ab1cc89d976b-impurity: gini,\n",
       "\trfc_ab1cc89d976b-maxDepth: 4,\n",
       "\trfc_ab1cc89d976b-numTrees: 6\n",
       "}, {\n",
       "\trfc_ab1cc89d976b-impurity: entropy,\n",
       "\trfc_ab1cc89d976b-maxDepth: 4,\n",
       "\trfc_ab1cc89d976b-numTrees: 7\n",
       "}, {\n",
       "\trfc_ab1cc89d976b-impurity: gini,\n",
       "\trfc_ab1cc89d976b-maxDepth: 4,\n",
       "\trfc_ab1cc89d976b-numTrees: 7\n",
       "}, {\n",
       "\trfc_ab1cc89d976b-impurity: entropy,\n",
       "\trfc_ab1cc89d976b-maxDepth: 4,\n",
       "\trfc_ab1cc89d976b-numTrees: 8\n",
       "}, {\n",
       "\trfc_ab1cc89d976b-impurity: gini,\n",
       "\trfc_ab1cc89d976b-maxDepth: 4,\n",
       "\trfc_ab1cc89d976b-numTrees: 8\n",
       "}, {\n",
       "\trfc_ab1cc89d976b-impurity: entropy,\n",
       "\trfc_ab1cc89d976b-maxDepth: 5,\n",
       "\trfc_ab1cc89d976b-numTrees: 2\n",
       "}, {\n",
       "\trfc_ab1cc89d976b-impurity: gini,\n",
       "\trfc_ab1cc89d976b-maxDepth: 5,\n",
       "\trfc_ab1cc89d976b-numTrees: 2\n",
       "}, {\n",
       "\trfc_ab1cc89d976b-impurity: entropy,\n",
       "\trfc_ab1cc89d976b-maxDepth: 5,\n",
       "\trfc_ab1cc89d976b-numTrees: 3\n",
       "}, {\n",
       "\trfc_ab1cc89d976b-impurity: gini,\n",
       "\trfc_ab1cc89d976b-maxDepth: 5,\n",
       "\trfc_ab1cc89d976b-numTrees: 3\n",
       "}, {\n",
       "\trfc_ab1cc89d976b-impurity: entropy,\n",
       "\trfc_ab1cc89d976b-maxDepth: 5,\n",
       "\trfc_ab1cc89d976b-numTrees: 4\n",
       "}, {\n",
       "\trfc_ab1cc89d976b-impurity: gini,\n",
       "\trfc_ab1cc89d976b-maxDepth: 5,\n",
       "\trfc_ab1cc89d976b-numTrees: 4\n",
       "}, {\n",
       "\trfc_ab1cc89d976b-impurity: entropy,\n",
       "\trfc_ab1cc89d976b-maxDepth: 5,\n",
       "\trfc_ab1cc89d976b-numTrees: 5\n",
       "}, {\n",
       "\trfc_ab1cc89d976b-impurity: gini,\n",
       "\trfc_ab1cc89d976b-maxDepth: 5,\n",
       "\trfc_ab1cc89d976b-numTrees: 5\n",
       "}, {\n",
       "\trfc_ab1cc89d976b-impurity: entropy,\n",
       "\trfc_ab1cc89d976b-maxDepth: 5,\n",
       "\trfc_ab1cc89d976b-numTrees: 6\n",
       "}, {\n",
       "\trfc_ab1cc89d976b-impurity: gini,\n",
       "\trfc_ab1cc89d976b-maxDepth: 5,\n",
       "\trfc_ab1cc89d976b-numTrees: 6\n",
       "}, {\n",
       "\trfc_ab1cc89d976b-impurity: entropy,\n",
       "\trfc_ab1cc89d976b-maxDepth: 5,\n",
       "\trfc_ab1cc89d976b-numTrees: 7\n",
       "}, {\n",
       "\trfc_ab1cc89d976b-impurity: gini,\n",
       "\trfc_ab1cc89d976b-maxDepth: 5,\n",
       "\trfc_ab1cc89d976b-numTrees: 7\n",
       "}, {\n",
       "\trfc_ab1cc89d976b-impurity: entropy,\n",
       "\trfc_ab1cc89d976b-maxDepth: 5,\n",
       "\trfc_ab1cc89d976b-numTrees: 8\n",
       "}, {\n",
       "\trfc_ab1cc89d976b-impurity: gini,\n",
       "\trfc_ab1cc89d976b-maxDepth: 5,\n",
       "\trfc_ab1cc89d976b-numTrees: 8\n",
       "}, {\n",
       "\trfc_ab1cc89d976b-impurity: entropy,\n",
       "\trfc_ab1cc89d976b-maxDepth: 6,\n",
       "\trfc_ab1cc89d976b-numTrees: 2\n",
       "}, {\n",
       "\trfc_ab1cc89d976b-impurity: gini,\n",
       "\trfc_ab1cc89d976b-maxDepth: 6,\n",
       "\trfc_ab1cc89d976b-numTrees: 2\n",
       "}, {\n",
       "\trfc_ab1cc89d976b-impurity: entropy,\n",
       "\trfc_ab1cc89d976b-maxDepth: 6,\n",
       "\trfc_ab1cc89d976b-numTrees: 3\n",
       "}, {\n",
       "\trfc_ab1cc89d976b-impurity: gini,\n",
       "\trfc_ab1cc89d976b-maxDepth: 6,\n",
       "\trfc_ab1cc89d976b-numTrees: 3\n",
       "}, {\n",
       "\trfc_ab1cc89d976b-impurity: entropy,\n",
       "\trfc_ab1cc89d976b-maxDepth: 6,\n",
       "\trfc_ab1cc89d976b-numTrees: 4\n",
       "}, {\n",
       "\trfc_ab1cc89d976b-impurity: gini,\n",
       "\trfc_ab1cc89d976b-maxDepth: 6,\n",
       "\trfc_ab1cc89d976b-numTrees: 4\n",
       "}, {\n",
       "\trfc_ab1cc89d976b-impurity: entropy,\n",
       "\trfc_ab1cc89d976b-maxDepth: 6,\n",
       "\trfc_ab1cc89d976b-numTrees: 5\n",
       "}, {\n",
       "\trfc_ab1cc89d976b-impurity: gini,\n",
       "\trfc_ab1cc89d976b-maxDepth: 6,\n",
       "\trfc_ab1cc89d976b-numTrees: 5\n",
       "}, {\n",
       "\trfc_ab1cc89d976b-impurity: entropy,\n",
       "\trfc_ab1cc89d976b-maxDepth: 6,\n",
       "\trfc_ab1cc89d976b-numTrees: 6\n",
       "}, {\n",
       "\trfc_ab1cc89d976b-impurity: gini,\n",
       "\trfc_ab1cc89d976b-maxDepth: 6,\n",
       "\trfc_ab1cc89d976b-numTrees: 6\n",
       "}, {\n",
       "\trfc_ab1cc89d976b-impurity: entropy,\n",
       "\trfc_ab1cc89d976b-maxDepth: 6,\n",
       "\trfc_ab1cc89d976b-numTrees: 7\n",
       "}, {\n",
       "\trfc_ab1cc89d976b-impurity: gini,\n",
       "\trfc_ab1cc89d976b-maxDepth: 6,\n",
       "\trfc_ab1cc89d976b-numTrees: 7\n",
       "}, {\n",
       "\trfc_ab1cc89d976b-impurity: entropy,\n",
       "\trfc_ab1cc89d976b-maxDepth: 6,\n",
       "\trfc_ab1cc89d976b-numTrees: 8\n",
       "}, {\n",
       "\trfc_ab1cc89d976b-impurity: gini,\n",
       "\trfc_ab1cc89d976b-maxDepth: 6,\n",
       "\trfc_ab1cc89d976b-numTrees: 8\n",
       "}, {\n",
       "\trfc_ab1cc89d976b-impurity: entropy,\n",
       "\trfc_ab1cc89d976b-maxDepth: 7,\n",
       "\trfc_ab1cc89d976b-numTrees: 2\n",
       "}, {\n",
       "\trfc_ab1cc89d976b-impurity: gini,\n",
       "\trfc_ab1cc89d976b-maxDepth: 7,\n",
       "\trfc_ab1cc89d976b-numTrees: 2\n",
       "}, {\n",
       "\trfc_ab1cc89d976b-impurity: entropy,\n",
       "\trfc_ab1cc89d976b-maxDepth: 7,\n",
       "\trfc_ab1cc89d976b-numTrees: 3\n",
       "}, {\n",
       "\trfc_ab1cc89d976b-impurity: gini,\n",
       "\trfc_ab1cc89d976b-maxDepth: 7,\n",
       "\trfc_ab1cc89d976b-numTrees: 3\n",
       "}, {\n",
       "\trfc_ab1cc89d976b-impurity: entropy,\n",
       "\trfc_ab1cc89d976b-maxDepth: 7,\n",
       "\trfc_ab1cc89d976b-numTrees: 4\n",
       "}, {\n",
       "\trfc_ab1cc89d976b-impurity: gini,\n",
       "\trfc_ab1cc89d976b-maxDepth: 7,\n",
       "\trfc_ab1cc89d976b-numTrees: 4\n",
       "}, {\n",
       "\trfc_ab1cc89d976b-impurity: entropy,\n",
       "\trfc_ab1cc89d976b-maxDepth: 7,\n",
       "\trfc_ab1cc89d976b-numTrees: 5\n",
       "}, {\n",
       "\trfc_ab1cc89d976b-impurity: gini,\n",
       "\trfc_ab1cc89d976b-maxDepth: 7,\n",
       "\trfc_ab1cc89d976b-numTrees: 5\n",
       "}, {\n",
       "\trfc_ab1cc89d976b-impurity: entropy,\n",
       "\trfc_ab1cc89d976b-maxDepth: 7,\n",
       "\trfc_ab1cc89d976b-numTrees: 6\n",
       "}, {\n",
       "\trfc_ab1cc89d976b-impurity: gini,\n",
       "\trfc_ab1cc89d976b-maxDepth: 7,\n",
       "\trfc_ab1cc89d976b-numTrees: 6\n",
       "}, {\n",
       "\trfc_ab1cc89d976b-impurity: entropy,\n",
       "\trfc_ab1cc89d976b-maxDepth: 7,\n",
       "\trfc_ab1cc89d976b-numTrees: 7\n",
       "}, {\n",
       "\trfc_ab1cc89d976b-impurity: gini,\n",
       "\trfc_ab1cc89d976b-maxDepth: 7,\n",
       "\trfc_ab1cc89d976b-numTrees: 7\n",
       "}, {\n",
       "\trfc_ab1cc89d976b-impurity: entropy,\n",
       "\trfc_ab1cc89d976b-maxDepth: 7,\n",
       "\trfc_ab1cc89d976b-numTrees: 8\n",
       "}, {\n",
       "\trfc_ab1cc89d976b-impurity: gini,\n",
       "\trfc_ab1cc89d976b-maxDepth: 7,\n",
       "\trfc_ab1cc89d976b-numTrees: 8\n",
       "}, {\n",
       "\trfc_ab1cc89d976b-impurity: entropy,\n",
       "\trfc_ab1cc89d976b-maxDepth: 8,\n",
       "\trfc_ab1cc89d976b-numTrees: 2\n",
       "}, {\n",
       "\trfc_ab1cc89d976b-impurity: gini,\n",
       "\trfc_ab1cc89d976b-maxDepth: 8,\n",
       "\trfc_ab1cc89d976b-numTrees: 2\n",
       "}, {\n",
       "\trfc_ab1cc89d976b-impurity: entropy,\n",
       "\trfc_ab1cc89d976b-maxDepth: 8,\n",
       "\trfc_ab1cc89d976b-numTrees: 3\n",
       "}, {\n",
       "\trfc_ab1cc89d976b-impurity: gini,\n",
       "\trfc_ab1cc89d976b-maxDepth: 8,\n",
       "\trfc_ab1cc89d976b-numTrees: 3\n",
       "}, {\n",
       "\trfc_ab1cc89d976b-impurity: entropy,\n",
       "\trfc_ab1cc89d976b-maxDepth: 8,\n",
       "\trfc_ab1cc89d976b-numTrees: 4\n",
       "}, {\n",
       "\trfc_ab1cc89d976b-impurity: gini,\n",
       "\trfc_ab1cc89d976b-maxDepth: 8,\n",
       "\trfc_ab1cc89d976b-numTrees: 4\n",
       "}, {\n",
       "\trfc_ab1cc89d976b-impurity: entropy,\n",
       "\trfc_ab1cc89d976b-maxDepth: 8,\n",
       "\trfc_ab1cc89d976b-numTrees: 5\n",
       "}, {\n",
       "\trfc_ab1cc89d976b-impurity: gini,\n",
       "\trfc_ab1cc89d976b-maxDepth: 8,\n",
       "\trfc_ab1cc89d976b-numTrees: 5\n",
       "}, {\n",
       "\trfc_ab1cc89d976b-impurity: entropy,\n",
       "\trfc_ab1cc89d976b-maxDepth: 8,\n",
       "\trfc_ab1cc89d976b-numTrees: 6\n",
       "}, {\n",
       "\trfc_ab1cc89d976b-impurity: gini,\n",
       "\trfc_ab1cc89d976b-maxDepth: 8,\n",
       "\trfc_ab1cc89d976b-numTrees: 6\n",
       "}, {\n",
       "\trfc_ab1cc89d976b-impurity: entropy,\n",
       "\trfc_ab1cc89d976b-maxDepth: 8,\n",
       "\trfc_ab1cc89d976b-numTrees: 7\n",
       "}, {\n",
       "\trfc_ab1cc89d976b-impurity: gini,\n",
       "\trfc_ab1cc89d976b-maxDepth: 8,\n",
       "\trfc_ab1cc89d976b-numTrees: 7\n",
       "}, {\n",
       "\trfc_ab1cc89d976b-impurity: entropy,\n",
       "\trfc_ab1cc89d976b-maxDepth: 8,\n",
       "\trfc_ab1cc89d976b-numTrees: 8\n",
       "}, {\n",
       "\trfc_ab1cc89d976b-impurity: gini,\n",
       "\trfc_ab1cc89d976b-maxDepth: 8,\n",
       "\trfc_ab1cc89d976b-numTrees: 8\n",
       "}]"
      ]
     },
     "execution_count": 16,
     "metadata": {},
     "output_type": "execute_result"
    }
   ],
   "source": [
    "val paramGrid = new ParamGridBuilder()\n",
    "  .addGrid(rf_tree.maxDepth, Array(2,3,4,5,6,7,8))\n",
    "  .addGrid(rf_tree.numTrees, Array(2,3,4,5,6,7,8))\n",
    "  .addGrid(rf_tree.impurity, Array(\"entropy\", \"gini\"))\n",
    "  .build()"
   ]
  },
  {
   "cell_type": "markdown",
   "metadata": {},
   "source": [
    "## Building a cross Validation Model with the help of the Parameter grid we created above\n",
    "- The lenght of the parameter Grid is 98 which means our Cross validation will create 98 different Random Forest and will chose the best Random Forest based on the accurecy"
   ]
  },
  {
   "cell_type": "code",
   "execution_count": 18,
   "metadata": {},
   "outputs": [
    {
     "data": {
      "text/plain": [
       "98"
      ]
     },
     "execution_count": 18,
     "metadata": {},
     "output_type": "execute_result"
    }
   ],
   "source": [
    "paramGrid.length"
   ]
  },
  {
   "cell_type": "markdown",
   "metadata": {},
   "source": [
    "### We need to mention on what basis the best Random Forest need to be selected out of 98 Random Forest\n",
    "- We can choose Accuracy,Precision,Recall based on our requrement "
   ]
  },
  {
   "cell_type": "code",
   "execution_count": 19,
   "metadata": {},
   "outputs": [
    {
     "data": {
      "text/plain": [
       "evaluator = mcEval_59feb9b7b2dd\n"
      ]
     },
     "metadata": {},
     "output_type": "display_data"
    },
    {
     "data": {
      "text/plain": [
       "mcEval_59feb9b7b2dd"
      ]
     },
     "execution_count": 19,
     "metadata": {},
     "output_type": "execute_result"
    }
   ],
   "source": [
    "val evaluator = new MulticlassClassificationEvaluator()\n",
    "  .setLabelCol(\"label\")\n",
    "  .setMetricName(\"accuracy\")"
   ]
  },
  {
   "cell_type": "markdown",
   "metadata": {},
   "source": [
    "### Building Corss Validation with K fold 10"
   ]
  },
  {
   "cell_type": "code",
   "execution_count": 20,
   "metadata": {},
   "outputs": [
    {
     "data": {
      "text/plain": [
       "cv = cv_3e5b8201d466\n"
      ]
     },
     "metadata": {},
     "output_type": "display_data"
    },
    {
     "data": {
      "text/plain": [
       "cv_3e5b8201d466"
      ]
     },
     "execution_count": 20,
     "metadata": {},
     "output_type": "execute_result"
    }
   ],
   "source": [
    "val cv = new CrossValidator()\n",
    "  .setEstimator(pipeline)\n",
    "  .setEvaluator(evaluator)\n",
    "  .setEstimatorParamMaps(paramGrid)\n",
    "  .setNumFolds(10)"
   ]
  },
  {
   "cell_type": "markdown",
   "metadata": {},
   "source": [
    "### Fitting Our Model with Train Data"
   ]
  },
  {
   "cell_type": "code",
   "execution_count": 1,
   "metadata": {},
   "outputs": [
    {
     "data": {
      "text/plain": [
       "r_model = cv_3e5b8201d466\n"
      ]
     },
     "metadata": {},
     "output_type": "display_data"
    },
    {
     "data": {
      "text/plain": [
       "cv_3e5b8201d466"
      ]
     },
     "execution_count": 1,
     "metadata": {},
     "output_type": "execute_result"
    }
   ],
   "source": [
    "val r_model = cv.fit(train)"
   ]
  },
  {
   "cell_type": "markdown",
   "metadata": {},
   "source": [
    "### We are testing our model with the test Data"
   ]
  },
  {
   "cell_type": "code",
   "execution_count": 2,
   "metadata": {},
   "outputs": [
    {
     "data": {
      "text/plain": [
       "re = [label: double, features: vector ... 3 more fields]\n"
      ]
     },
     "metadata": {},
     "output_type": "display_data"
    },
    {
     "data": {
      "text/plain": [
       "[label: double, features: vector ... 3 more fields]"
      ]
     },
     "execution_count": 2,
     "metadata": {},
     "output_type": "execute_result"
    }
   ],
   "source": [
    "val re = r_model.transform(test1)"
   ]
  },
  {
   "cell_type": "markdown",
   "metadata": {},
   "source": [
    "### We are testing Our model performance"
   ]
  },
  {
   "cell_type": "code",
   "execution_count": 3,
   "metadata": {},
   "outputs": [
    {
     "data": {
      "text/plain": [
       "model_accurecy: (metric: String)Double\n"
      ]
     },
     "metadata": {},
     "output_type": "display_data"
    }
   ],
   "source": [
    "def model_accurecy(metric: String): Double = {\n",
    "    \n",
    "    val evaluator = new MulticlassClassificationEvaluator()\n",
    "  .setLabelCol(\"label\")\n",
    "  .setPredictionCol(\"prediction\")\n",
    "  .setMetricName(metric)\n",
    "    \n",
    "  evaluator.evaluate(re)   \n",
    "}"
   ]
  },
  {
   "cell_type": "code",
   "execution_count": 4,
   "metadata": {},
   "outputs": [
    {
     "data": {
      "text/plain": [
       "0.5802469135802469"
      ]
     },
     "execution_count": 4,
     "metadata": {},
     "output_type": "execute_result"
    }
   ],
   "source": [
    "model_accurecy(\"accuracy\")"
   ]
  },
  {
   "cell_type": "code",
   "execution_count": 5,
   "metadata": {},
   "outputs": [],
   "source": [
    "r_model.write.overwrite.save(\"/user/viswatejaster9073/ML1/r_forest_hear\")"
   ]
  },
  {
   "cell_type": "code",
   "execution_count": null,
   "metadata": {},
   "outputs": [],
   "source": []
  }
 ],
 "metadata": {
  "kernelspec": {
   "display_name": "Apache Toree - Scala",
   "language": "scala",
   "name": "apache_toree_scala"
  },
  "language_info": {
   "codemirror_mode": "text/x-scala",
   "file_extension": ".scala",
   "mimetype": "text/x-scala",
   "name": "scala",
   "pygments_lexer": "scala",
   "version": "2.11.8"
  },
  "toc": {
   "base_numbering": 1,
   "nav_menu": {},
   "number_sections": true,
   "sideBar": true,
   "skip_h1_title": false,
   "title_cell": "Table of Contents",
   "title_sidebar": "Contents",
   "toc_cell": false,
   "toc_position": {},
   "toc_section_display": true,
   "toc_window_display": false
  }
 },
 "nbformat": 4,
 "nbformat_minor": 2
}
