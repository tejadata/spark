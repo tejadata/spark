{
 "cells": [
  {
   "cell_type": "markdown",
   "metadata": {},
   "source": [
    "# Read the Data"
   ]
  },
  {
   "cell_type": "code",
   "execution_count": 23,
   "metadata": {
    "code_folding": []
   },
   "outputs": [],
   "source": [
    "import org.apache.spark.{SparkConf, SparkContext}\n",
    "import org.apache.spark.sql._\n",
    "import org.apache.spark.sql.types.{StructType, StructField, StringType, IntegerType,DoubleType};\n",
    "import org.apache.spark.ml.stat.Correlation\n",
    "import org.apache.spark.sql._\n",
    "import org.apache.spark.ml._\n",
    "import org.apache.spark.ml.feature._\n"
   ]
  },
  {
   "cell_type": "code",
   "execution_count": 10,
   "metadata": {},
   "outputs": [
    {
     "data": {
      "text/plain": [
       "conf = org.apache.spark.SparkConf@55502758\n",
       "sc = org.apache.spark.SparkContext@fa7da4e\n",
       "spark = org.apache.spark.sql.SQLContext@38a22951\n"
      ]
     },
     "metadata": {},
     "output_type": "display_data"
    },
    {
     "data": {
      "text/plain": [
       "warning: there was one deprecation warning; re-run with -deprecation for details\n"
      ]
     },
     "metadata": {},
     "output_type": "display_data"
    },
    {
     "data": {
      "text/plain": [
       "org.apache.spark.sql.SQLContext@38a22951"
      ]
     },
     "execution_count": 10,
     "metadata": {},
     "output_type": "execute_result"
    }
   ],
   "source": [
    "val conf = new SparkConf().setAppName(\"Risk Analysys\")\n",
    "val sc = new SparkContext(conf)\n",
    "val spark = new SQLContext(sc) "
   ]
  },
  {
   "cell_type": "code",
   "execution_count": 11,
   "metadata": {},
   "outputs": [
    {
     "data": {
      "text/plain": [
       "schema = StructType(StructField(age,IntegerType,true), StructField(ed,IntegerType,true), StructField(employ,IntegerType,true), StructField(address,IntegerType,true), StructField(income,DoubleType,true), StructField(debtinc,DoubleType,true), StructField(creddebt,DoubleType,true), StructField(othdebt,DoubleType,true), StructField(default,DoubleType,true))\n"
      ]
     },
     "metadata": {},
     "output_type": "display_data"
    },
    {
     "data": {
      "text/plain": [
       "StructType(StructField(age,IntegerType,true), StructField(ed,IntegerType,true), StructField(employ,IntegerType,true), StructField(address,IntegerType,true), StructField(income,DoubleType,true), StructField(debtinc,DoubleType,true), StructField(creddebt,DoubleType,true), StructField(othdebt,DoubleType,true), StructField(default,DoubleType,true))"
      ]
     },
     "execution_count": 11,
     "metadata": {},
     "output_type": "execute_result"
    }
   ],
   "source": [
    "val schema = StructType(Seq(StructField(\"age\",IntegerType,true), StructField(\"ed\",IntegerType,true), \n",
    "                        StructField(\"employ\",IntegerType,true), StructField(\"address\",IntegerType,true), \n",
    "                        StructField(\"income\",DoubleType,true), StructField(\"debtinc\",DoubleType,true), \n",
    "                        StructField(\"creddebt\",DoubleType,true), \n",
    "                        StructField(\"othdebt\",DoubleType,true), \n",
    "                        StructField(\"default\",DoubleType,true)))"
   ]
  },
  {
   "cell_type": "code",
   "execution_count": 13,
   "metadata": {},
   "outputs": [
    {
     "data": {
      "text/plain": [
       "bank_data = [age: int, ed: int ... 7 more fields]\n"
      ]
     },
     "metadata": {},
     "output_type": "display_data"
    },
    {
     "data": {
      "text/plain": [
       "[age: int, ed: int ... 7 more fields]"
      ]
     },
     "execution_count": 13,
     "metadata": {},
     "output_type": "execute_result"
    }
   ],
   "source": [
    "val bank_data = spark.read.format(\"csv\")\n",
    "              .option(\"header\",\"true\")\n",
    "              .option(\"delimiter\", \",\")\n",
    "             .schema(schema)\n",
    "            .load(\"/user/viswatejaster9073/ML/bankloans.csv\")"
   ]
  },
  {
   "cell_type": "code",
   "execution_count": 23,
   "metadata": {},
   "outputs": [
    {
     "name": "stdout",
     "output_type": "stream",
     "text": [
      "+----+---+------+-------+------+-------+---------+---------+-------+\n",
      "| age| ed|employ|address|income|debtinc| creddebt|  othdebt|default|\n",
      "+----+---+------+-------+------+-------+---------+---------+-------+\n",
      "|  41|  3|    17|     12|  null|    9.3|11.359392| 5.008608|    1.0|\n",
      "|  27|  1|    10|      6|  31.0|   17.3| 1.362202| 4.000798|    0.0|\n",
      "|  40|  1|    15|     14|  55.0|    5.5| 0.856075| 2.168925|    0.0|\n",
      "|  41|  1|    15|     14| 120.0|    2.9|  2.65872|  0.82128|    0.0|\n",
      "|  24|  2|     2|      0|  28.0|   17.3| 1.787436| 3.056564|    1.0|\n",
      "|  41|  2|     5|      5|  25.0|   10.2|   0.3927|   2.1573|    0.0|\n",
      "|  39|  1|    20|      9|  67.0|   30.6| 3.833874|16.668126|    0.0|\n",
      "|null|  1|    12|     11|  38.0|    3.6| 0.128592| 1.239408|    0.0|\n",
      "|  24|  1|     3|      4|  19.0|   24.4| 1.358348| 3.277652|    1.0|\n",
      "|  36|  1|     0|     13|  25.0|   19.7|   2.7777|   2.1473|    0.0|\n",
      "|  27|  1|     0|      1|  16.0|    1.7| 0.182512| 0.089488|    0.0|\n",
      "|  25|  1|     4|      0|  23.0|    5.2| 0.252356| 0.943644|    0.0|\n",
      "|  52|  1|    24|     14|  64.0|   10.0|   3.9296|   2.4704|    0.0|\n",
      "|  37|  1|     6|      9|  29.0|   16.3| 1.715901| 3.011099|    0.0|\n",
      "|  48|  1|    22|     15| 100.0|    9.1|   3.7037|   5.3963|    0.0|\n",
      "|  36|  2|     9|      6|  49.0|    8.6| 0.817516| 3.396484|    1.0|\n",
      "|  36|  2|    13|      6|  41.0|   16.4| 2.918216| 3.805784|    1.0|\n",
      "|  43|  1|    23|     19|  72.0|    7.6| 1.181952| 4.290048|    0.0|\n",
      "|  39|  1|     6|      9|  61.0|    5.7| 0.563274| 2.913726|    0.0|\n",
      "|  41|  3|     0|     21|  26.0|    1.7| 0.099008| 0.342992|    0.0|\n",
      "+----+---+------+-------+------+-------+---------+---------+-------+\n",
      "only showing top 20 rows\n",
      "\n"
     ]
    }
   ],
   "source": [
    "bank_data.show()"
   ]
  },
  {
   "cell_type": "markdown",
   "metadata": {},
   "source": [
    "## 1) Count of the records 2) Data types"
   ]
  },
  {
   "cell_type": "code",
   "execution_count": 14,
   "metadata": {},
   "outputs": [
    {
     "data": {
      "text/plain": [
       "850"
      ]
     },
     "execution_count": 14,
     "metadata": {},
     "output_type": "execute_result"
    }
   ],
   "source": [
    "bank_data.count()"
   ]
  },
  {
   "cell_type": "code",
   "execution_count": 15,
   "metadata": {},
   "outputs": [
    {
     "data": {
      "text/plain": [
       "StructType(StructField(age,IntegerType,true), StructField(ed,IntegerType,true), StructField(employ,IntegerType,true), StructField(address,IntegerType,true), StructField(income,DoubleType,true), StructField(debtinc,DoubleType,true), StructField(creddebt,DoubleType,true), StructField(othdebt,DoubleType,true), StructField(default,DoubleType,true))"
      ]
     },
     "execution_count": 15,
     "metadata": {},
     "output_type": "execute_result"
    }
   ],
   "source": [
    "bank_data.schema"
   ]
  },
  {
   "cell_type": "markdown",
   "metadata": {},
   "source": [
    "### writing the stats to a single CSV file, I am using repartition value as 1 because I want to write all the data in single file"
   ]
  },
  {
   "cell_type": "code",
   "execution_count": 16,
   "metadata": {},
   "outputs": [
    {
     "data": {
      "text/plain": [
       "desc = [summary: string, age: string ... 8 more fields]\n"
      ]
     },
     "metadata": {},
     "output_type": "display_data"
    },
    {
     "data": {
      "text/plain": [
       "[summary: string, age: string ... 8 more fields]"
      ]
     },
     "execution_count": 16,
     "metadata": {},
     "output_type": "execute_result"
    }
   ],
   "source": [
    "val desc = bank_data.describe()"
   ]
  },
  {
   "cell_type": "code",
   "execution_count": 18,
   "metadata": {},
   "outputs": [
    {
     "data": {
      "text/plain": [
       "lastException: Throwable = null\n"
      ]
     },
     "metadata": {},
     "output_type": "display_data"
    }
   ],
   "source": [
    "desc.repartition(1).write.format(\"csv\").option(\"header\", \"true\").save(\"/user/viswatejaster9073/ML/stats.csv\")"
   ]
  },
  {
   "cell_type": "markdown",
   "metadata": {},
   "source": [
    "# Finding missing values\n",
    "- as per the below result we have 152 total missing values\n",
    "- you can also see the result of describe() function to see the number of missing values"
   ]
  },
  {
   "cell_type": "code",
   "execution_count": 31,
   "metadata": {},
   "outputs": [
    {
     "name": "stdout",
     "output_type": "stream",
     "text": [
      "+-----+\n",
      "|value|\n",
      "+-----+\n",
      "| true|\n",
      "|false|\n",
      "|false|\n",
      "|false|\n",
      "|false|\n",
      "+-----+\n",
      "only showing top 5 rows\n",
      "\n"
     ]
    }
   ],
   "source": [
    "bank_data.map(x=>x.anyNull).show(5)"
   ]
  },
  {
   "cell_type": "code",
   "execution_count": 32,
   "metadata": {},
   "outputs": [
    {
     "data": {
      "text/plain": [
       "152"
      ]
     },
     "execution_count": 32,
     "metadata": {},
     "output_type": "execute_result"
    }
   ],
   "source": [
    "bank_data.map(x=>x.anyNull).filter($\"value\" === true).count"
   ]
  },
  {
   "cell_type": "markdown",
   "metadata": {},
   "source": [
    "# How to fill missing values using Imputer from MLLib\n",
    "- We know there are some missing values for the coulms default and Income\n",
    "- If you see below code we are settign Input columns and the output columns once the missing values are filled\n",
    "- We are filling the missing values with the Mean"
   ]
  },
  {
   "cell_type": "code",
   "execution_count": 24,
   "metadata": {},
   "outputs": [
    {
     "data": {
      "text/plain": [
       "imputer = imputer_17ff863f84d1\n"
      ]
     },
     "metadata": {},
     "output_type": "display_data"
    },
    {
     "data": {
      "text/plain": [
       "imputer_17ff863f84d1"
      ]
     },
     "execution_count": 24,
     "metadata": {},
     "output_type": "execute_result"
    }
   ],
   "source": [
    "val imputer = new Imputer().setInputCols(Array(\"default\", \"income\")).setOutputCols(Array(\"default_I\", \"income_I\"))\n",
    "                .setStrategy(\"mean\")"
   ]
  },
  {
   "cell_type": "code",
   "execution_count": 25,
   "metadata": {},
   "outputs": [
    {
     "data": {
      "text/plain": [
       "model = imputer_17ff863f84d1\n",
       "model_final = [age: int, ed: int ... 9 more fields]\n"
      ]
     },
     "metadata": {},
     "output_type": "display_data"
    },
    {
     "data": {
      "text/plain": [
       "[age: int, ed: int ... 9 more fields]"
      ]
     },
     "execution_count": 25,
     "metadata": {},
     "output_type": "execute_result"
    }
   ],
   "source": [
    "val model = imputer.fit(bank_data)\n",
    "val model_final=model.transform(bank_data)"
   ]
  },
  {
   "cell_type": "markdown",
   "metadata": {},
   "source": [
    "### Removing the coulums which has missign values as we already Imputed those with differenet columns names"
   ]
  },
  {
   "cell_type": "code",
   "execution_count": 26,
   "metadata": {},
   "outputs": [
    {
     "data": {
      "text/plain": [
       "final_Bank_Result1 = [age: int, ed: int ... 7 more fields]\n"
      ]
     },
     "metadata": {},
     "output_type": "display_data"
    },
    {
     "data": {
      "text/plain": [
       "[age: int, ed: int ... 7 more fields]"
      ]
     },
     "execution_count": 26,
     "metadata": {},
     "output_type": "execute_result"
    }
   ],
   "source": [
    "val final_Bank_Result1 = model_final.drop(\"default\",\"income\")"
   ]
  },
  {
   "cell_type": "code",
   "execution_count": 27,
   "metadata": {},
   "outputs": [
    {
     "data": {
      "text/plain": [
       "final_Bank_Result = [age: int, ed: int ... 7 more fields]\n"
      ]
     },
     "metadata": {},
     "output_type": "display_data"
    },
    {
     "data": {
      "text/plain": [
       "[age: int, ed: int ... 7 more fields]"
      ]
     },
     "execution_count": 27,
     "metadata": {},
     "output_type": "execute_result"
    }
   ],
   "source": [
    "val final_Bank_Result = final_Bank_Result1.na.drop"
   ]
  },
  {
   "cell_type": "code",
   "execution_count": 28,
   "metadata": {},
   "outputs": [
    {
     "name": "stdout",
     "output_type": "stream",
     "text": [
      "root\n",
      " |-- age: integer (nullable = true)\n",
      " |-- ed: integer (nullable = true)\n",
      " |-- employ: integer (nullable = true)\n",
      " |-- address: integer (nullable = true)\n",
      " |-- debtinc: double (nullable = true)\n",
      " |-- creddebt: double (nullable = true)\n",
      " |-- othdebt: double (nullable = true)\n",
      " |-- default_I: double (nullable = true)\n",
      " |-- income_I: double (nullable = true)\n",
      "\n"
     ]
    },
    {
     "data": {
      "text/plain": [
       "fdesc = [summary: string, age: string ... 8 more fields]\n"
      ]
     },
     "metadata": {},
     "output_type": "display_data"
    },
    {
     "data": {
      "text/plain": [
       "[summary: string, age: string ... 8 more fields]"
      ]
     },
     "execution_count": 28,
     "metadata": {},
     "output_type": "execute_result"
    }
   ],
   "source": [
    "final_Bank_Result.printSchema\n",
    "val fdesc=final_Bank_Result.describe()"
   ]
  },
  {
   "cell_type": "code",
   "execution_count": null,
   "metadata": {},
   "outputs": [],
   "source": [
    "fdesc.repartition(1).write.format(\"csv\").option(\"header\", \"true\").save(\"/user/viswatejaster9073/ML/mydataf.csv\")"
   ]
  },
  {
   "cell_type": "markdown",
   "metadata": {},
   "source": [
    "# Dealing with Outliers, go thru below sites for more information\n",
    "- http://waytodatascience.com/range-interquartilerange-percentile/\n",
    "- http://waytodatascience.com/outliers-treatment/\n",
    "\n",
    "## Handling Outliers, Below are the parameters need to be passed\n",
    "- col - the name of the numerical column\n",
    "- probabilities - a list of quantile probabilities Each number must belong to [0, 1]. For example 0 is the minimum, 0.5 is the median, 1 is the maximum.\n",
    "- relativeError - The relative target precision to achieve (>= 0). If set to zero, the exact quantiles are computed, which could be very expensive. Note that values greater than 1 are accepted but give the same result as 1.\n",
    "\n",
    "### with the help of below query we found the Q1 and Q2 now lets calculate IQR"
   ]
  },
  {
   "cell_type": "code",
   "execution_count": 29,
   "metadata": {},
   "outputs": [
    {
     "data": {
      "text/plain": [
       "quantiles = Array(14.0, 221.0)\n"
      ]
     },
     "metadata": {},
     "output_type": "display_data"
    },
    {
     "data": {
      "text/plain": [
       "[14.0, 221.0]"
      ]
     },
     "execution_count": 29,
     "metadata": {},
     "output_type": "execute_result"
    }
   ],
   "source": [
    "val quantiles=final_Bank_Result.stat.approxQuantile(\"income_I\", Array(0.01,0.99),0.0)"
   ]
  },
  {
   "cell_type": "code",
   "execution_count": 30,
   "metadata": {},
   "outputs": [
    {
     "data": {
      "text/plain": [
       "IQR = 207.0\n"
      ]
     },
     "metadata": {},
     "output_type": "display_data"
    },
    {
     "data": {
      "text/plain": [
       "207.0"
      ]
     },
     "execution_count": 30,
     "metadata": {},
     "output_type": "execute_result"
    }
   ],
   "source": [
    "val IQR = quantiles(1)-quantiles(0)"
   ]
  },
  {
   "cell_type": "markdown",
   "metadata": {},
   "source": [
    "#### Lets find the lower and higher outliers"
   ]
  },
  {
   "cell_type": "code",
   "execution_count": 31,
   "metadata": {},
   "outputs": [
    {
     "data": {
      "text/plain": [
       "low_outlier = -296.5\n"
      ]
     },
     "metadata": {},
     "output_type": "display_data"
    },
    {
     "data": {
      "text/plain": [
       "-296.5"
      ]
     },
     "execution_count": 31,
     "metadata": {},
     "output_type": "execute_result"
    }
   ],
   "source": [
    "val low_outlier = quantiles(0)-1.5*IQR"
   ]
  },
  {
   "cell_type": "code",
   "execution_count": 32,
   "metadata": {},
   "outputs": [
    {
     "data": {
      "text/plain": [
       "high_outlier = 531.5\n"
      ]
     },
     "metadata": {},
     "output_type": "display_data"
    },
    {
     "data": {
      "text/plain": [
       "531.5"
      ]
     },
     "execution_count": 32,
     "metadata": {},
     "output_type": "execute_result"
    }
   ],
   "source": [
    "val high_outlier = quantiles(1)+1.5*IQR"
   ]
  },
  {
   "cell_type": "markdown",
   "metadata": {},
   "source": [
    "### If you see the summary of income we dont have any values less than or equal to -296.5 or greater than or equal to 531.5, so there are no outliers "
   ]
  },
  {
   "cell_type": "code",
   "execution_count": 33,
   "metadata": {},
   "outputs": [
    {
     "name": "stdout",
     "output_type": "stream",
     "text": [
      "+-------+-----------------+\n",
      "|summary|         income_I|\n",
      "+-------+-----------------+\n",
      "|  count|              849|\n",
      "|   mean|46.53300702967948|\n",
      "| stddev|38.30779447345557|\n",
      "|    min|             13.0|\n",
      "|    max|            446.0|\n",
      "+-------+-----------------+\n",
      "\n"
     ]
    }
   ],
   "source": [
    "final_Bank_Result.select($\"income_I\").describe().show()"
   ]
  },
  {
   "cell_type": "markdown",
   "metadata": {},
   "source": [
    "# Finding Correlation matrix\n",
    "\n",
    "## converting each row in to vector as it is manditory to convert to this format"
   ]
  },
  {
   "cell_type": "code",
   "execution_count": 17,
   "metadata": {},
   "outputs": [
    {
     "data": {
      "text/plain": [
       "[age, ed, employ, address, debtinc, creddebt, othdebt, default_I, income_I]"
      ]
     },
     "execution_count": 17,
     "metadata": {},
     "output_type": "execute_result"
    }
   ],
   "source": [
    "final_Bank_Result.columns"
   ]
  },
  {
   "cell_type": "code",
   "execution_count": 18,
   "metadata": {},
   "outputs": [
    {
     "data": {
      "text/plain": [
       "assembler = vecAssembler_4248ef9ea32d\n"
      ]
     },
     "metadata": {},
     "output_type": "display_data"
    },
    {
     "data": {
      "text/plain": [
       "vecAssembler_4248ef9ea32d"
      ]
     },
     "execution_count": 18,
     "metadata": {},
     "output_type": "execute_result"
    }
   ],
   "source": [
    "val assembler = new VectorAssembler()\n",
    "  .setInputCols(final_Bank_Result.columns)\n",
    "  .setOutputCol(\"features\")"
   ]
  },
  {
   "cell_type": "code",
   "execution_count": 19,
   "metadata": {},
   "outputs": [
    {
     "data": {
      "text/plain": [
       "output = [age: int, ed: int ... 8 more fields]\n"
      ]
     },
     "metadata": {},
     "output_type": "display_data"
    },
    {
     "data": {
      "text/plain": [
       "[age: int, ed: int ... 8 more fields]"
      ]
     },
     "execution_count": 19,
     "metadata": {},
     "output_type": "execute_result"
    }
   ],
   "source": [
    "val output = assembler.transform(final_Bank_Result.na.drop)"
   ]
  },
  {
   "cell_type": "code",
   "execution_count": 20,
   "metadata": {},
   "outputs": [
    {
     "name": "stdout",
     "output_type": "stream",
     "text": [
      "+--------------------+\n",
      "|            features|\n",
      "+--------------------+\n",
      "|[41.0,3.0,17.0,12...|\n",
      "|[27.0,1.0,10.0,6....|\n",
      "|[40.0,1.0,15.0,14...|\n",
      "|[41.0,1.0,15.0,14...|\n",
      "|[24.0,2.0,2.0,0.0...|\n",
      "|[41.0,2.0,5.0,5.0...|\n",
      "|[39.0,1.0,20.0,9....|\n",
      "|[24.0,1.0,3.0,4.0...|\n",
      "|[36.0,1.0,0.0,13....|\n",
      "|[27.0,1.0,0.0,1.0...|\n",
      "|[25.0,1.0,4.0,0.0...|\n",
      "|[52.0,1.0,24.0,14...|\n",
      "|[37.0,1.0,6.0,9.0...|\n",
      "|[48.0,1.0,22.0,15...|\n",
      "|[36.0,2.0,9.0,6.0...|\n",
      "|[36.0,2.0,13.0,6....|\n",
      "|[43.0,1.0,23.0,19...|\n",
      "|[39.0,1.0,6.0,9.0...|\n",
      "|[41.0,3.0,0.0,21....|\n",
      "|[39.0,1.0,22.0,3....|\n",
      "+--------------------+\n",
      "only showing top 20 rows\n",
      "\n"
     ]
    }
   ],
   "source": [
    "output.select($\"features\").show()"
   ]
  },
  {
   "cell_type": "markdown",
   "metadata": {},
   "source": [
    "## Finding corelation and storing it in coeff1 variable"
   ]
  },
  {
   "cell_type": "code",
   "execution_count": 17,
   "metadata": {},
   "outputs": [
    {
     "data": {
      "text/plain": [
       "coeff1 = \n"
      ]
     },
     "metadata": {},
     "output_type": "display_data"
    },
    {
     "data": {
      "text/plain": [
       "1.0                   0.013890935310364066  0.5540539797392409    ... (9 total)\n",
       "0.013890935310364066  1.0                   -0.15073439393182878  ...\n",
       "0.5540539797392409    -0.15073439393182878  1.0                   ...\n",
       "0.5999027439746645    0.053294449596498324  0.3445179656366462    ...\n",
       "0.009393894758528618  0.007176600305510925  -0.03306433740271827  ...\n",
       "0.2799424858461383    0.09852572619495747   0.38231075953384924   ...\n",
       "0.3387286921850727    0.14052088251701092   0.4148886090917719    ...\n",
       "-0.12355818984485614  0.1035707819878161    -0.25193665517801883  ...\n",
       "0.4770041273132644    0.2140258655626239    0.6245729481921632    ..."
      ]
     },
     "execution_count": 17,
     "metadata": {},
     "output_type": "execute_result"
    }
   ],
   "source": [
    "val Row(coeff1: Matrix) = Correlation.corr(output,\"features\").head"
   ]
  },
  {
   "cell_type": "markdown",
   "metadata": {},
   "source": [
    "### Converting Matrix in to a List of Array to convert it to RDD\n",
    "- We are doing it because, it is difficult to understand the correlation matrix as you seen above"
   ]
  },
  {
   "cell_type": "code",
   "execution_count": 18,
   "metadata": {},
   "outputs": [
    {
     "data": {
      "text/plain": [
       "localMatrix = List(Array(1.0, 0.013890935310364066, 0.5540539797392409, 0.5999027439746645, 0.009393894758528618, 0.2799424858461383, 0.3387286921850727, -0.12355818984485614, 0.4770041273132644), Array(0.013890935310364066, 1.0, -0.15073439393182878, 0.053294449596498324, 0.007176600305510925, 0.09852572619495747, 0.14052088251701092, 0.1035707819878161, 0.2140258655626239), Array(0.5540539797392409, -0.15073439393182878, 1.0, 0.3445179656366462, -0.03306433740271827, 0.38231075953384924, 0.4148886090917719, -0.25193665517801883, 0.6245729481921632), Array(0.5999027439746645, 0.053294449596498324, 0.3445179656366462, 1.0, -0.03252035769911093, 0.16200501333681244, 0.1857719812004867, -0.1474556689754082, 0.30844726151737173), Array(0.009393894758528618, 0.007176600...\n"
      ]
     },
     "metadata": {},
     "output_type": "display_data"
    },
    {
     "data": {
      "text/plain": [
       "List([D@506a87f9, [D@e405445, [D@389021a, [D@63a27bdf, [D@67f37d1d, [D@6b9dffda, [D@20cfb961, [D@50435224, [D@2c24d6a4)"
      ]
     },
     "execution_count": 18,
     "metadata": {},
     "output_type": "execute_result"
    }
   ],
   "source": [
    "val localMatrix: List[Array[Double]] = coeff1\n",
    "    .toArray\n",
    "    .grouped(coeff1.numCols)\n",
    "    .toList"
   ]
  },
  {
   "cell_type": "code",
   "execution_count": 19,
   "metadata": {},
   "outputs": [
    {
     "data": {
      "text/plain": [
       "cordd = MapPartitionsRDD[33] at repartition at <console>:85\n"
      ]
     },
     "metadata": {},
     "output_type": "display_data"
    },
    {
     "data": {
      "text/plain": [
       "[[1.0, 0.013890935310364066, 0.5540539797392409, 0.5999027439746645, 0.009393894758528618, 0.2799424858461383, 0.3387286921850727, -0.12355818984485614, 0.4770041273132644], [0.013890935310364066, 1.0, -0.15073439393182878, 0.053294449596498324, 0.007176600305510925, 0.09852572619495747, 0.14052088251701092, 0.1035707819878161, 0.2140258655626239], [0.5540539797392409, -0.15073439393182878, 1.0, 0.3445179656366462, -0.03306433740271827, 0.38231075953384924, 0.4148886090917719, -0.25193665517801883, 0.6245729481921632], [0.5999027439746645, 0.053294449596498324, 0.3445179656366462, 1.0, -0.03252035769911093, 0.16200501333681244, 0.1857719812004867, -0.1474556689754082, 0.30844726151737173], [0.009393894758528618, 0.007176600305510925, -0.03306433740271827, -0.03252035769911093, 1.0, 0.5146104007505761, 0.5723450152301102, 0.35869677227123453, -0.035584612690822116]]"
      ]
     },
     "execution_count": 19,
     "metadata": {},
     "output_type": "execute_result"
    }
   ],
   "source": [
    "val cordd=sc.parallelize(localMatrix).repartition(1)\n",
    "cordd.take(5)"
   ]
  },
  {
   "cell_type": "markdown",
   "metadata": {},
   "source": [
    "### Converting to Data Frame"
   ]
  },
  {
   "cell_type": "code",
   "execution_count": 20,
   "metadata": {},
   "outputs": [
    {
     "data": {
      "text/plain": [
       "s = [value: array<double>]\n"
      ]
     },
     "metadata": {},
     "output_type": "display_data"
    },
    {
     "data": {
      "text/plain": [
       "[value: array<double>]"
      ]
     },
     "execution_count": 20,
     "metadata": {},
     "output_type": "execute_result"
    }
   ],
   "source": [
    "val s = cordd.toDF"
   ]
  },
  {
   "cell_type": "code",
   "execution_count": 24,
   "metadata": {},
   "outputs": [
    {
     "name": "stdout",
     "output_type": "stream",
     "text": [
      "+--------------------+\n",
      "|               value|\n",
      "+--------------------+\n",
      "|[1.0, 0.013890935...|\n",
      "|[0.01389093531036...|\n",
      "|[0.55405397973924...|\n",
      "+--------------------+\n",
      "only showing top 3 rows\n",
      "\n"
     ]
    }
   ],
   "source": [
    "s.show(3)"
   ]
  },
  {
   "cell_type": "markdown",
   "metadata": {},
   "source": [
    "### If you see above response we have the single column with the name value has list of Array, So we need to split accordingly"
   ]
  },
  {
   "cell_type": "code",
   "execution_count": 21,
   "metadata": {},
   "outputs": [],
   "source": [
    "s.createOrReplaceTempView(\"cor\")"
   ]
  },
  {
   "cell_type": "code",
   "execution_count": 22,
   "metadata": {},
   "outputs": [
    {
     "data": {
      "text/plain": [
       "corelationmatrix = [age: double, ed: double ... 7 more fields]\n"
      ]
     },
     "metadata": {},
     "output_type": "display_data"
    },
    {
     "data": {
      "text/plain": [
       "[age: double, ed: double ... 7 more fields]"
      ]
     },
     "execution_count": 22,
     "metadata": {},
     "output_type": "execute_result"
    }
   ],
   "source": [
    "val corelationmatrix=spark.sql(\"select value[0] as age,value[1] as ed,value[2] as employ,value[3] as address,value[4] as income,value[5] as debtinc,value[6] as creddebt,value[7] as othdebt,value[8] as default from cor\")"
   ]
  },
  {
   "cell_type": "code",
   "execution_count": 23,
   "metadata": {},
   "outputs": [
    {
     "name": "stdout",
     "output_type": "stream",
     "text": [
      "+--------------------+--------------------+--------------------+--------------------+--------------------+-------------------+-------------------+--------------------+--------------------+\n",
      "|                 age|                  ed|              employ|             address|              income|            debtinc|           creddebt|             othdebt|             default|\n",
      "+--------------------+--------------------+--------------------+--------------------+--------------------+-------------------+-------------------+--------------------+--------------------+\n",
      "|                 1.0|0.013890935310364066|  0.5540539797392409|  0.5999027439746645|0.009393894758528618| 0.2799424858461383| 0.3387286921850727|-0.12355818984485614|  0.4770041273132644|\n",
      "|0.013890935310364066|                 1.0|-0.15073439393182878|0.053294449596498324|0.007176600305510925|0.09852572619495747|0.14052088251701092|  0.1035707819878161|  0.2140258655626239|\n",
      "|  0.5540539797392409|-0.15073439393182878|                 1.0|  0.3445179656366462|-0.03306433740271827|0.38231075953384924| 0.4148886090917719|-0.25193665517801883|  0.6245729481921632|\n",
      "|  0.5999027439746645|0.053294449596498324|  0.3445179656366462|                 1.0|-0.03252035769911093|0.16200501333681244| 0.1857719812004867| -0.1474556689754082| 0.30844726151737173|\n",
      "|0.009393894758528618|0.007176600305510925|-0.03306433740271827|-0.03252035769911093|                 1.0| 0.5146104007505761| 0.5723450152301102| 0.35869677227123453|-0.03558461269082...|\n",
      "|  0.2799424858461383| 0.09852572619495747| 0.38231075953384924| 0.16200501333681244|  0.5146104007505761|                1.0| 0.6448054605992259| 0.22075670194464325|  0.5368669274443172|\n",
      "|  0.3387286921850727| 0.14052088251701092|  0.4148886090917719|  0.1857719812004867|  0.5723450152301102| 0.6448054605992259|                1.0|  0.1275238229672836|  0.6051155502739374|\n",
      "|-0.12355818984485614|  0.1035707819878161|-0.25193665517801883| -0.1474556689754082| 0.35869677227123453|0.22075670194464325| 0.1275238229672836|                 1.0|-0.06948473921305591|\n",
      "|  0.4770041273132644|  0.2140258655626239|  0.6245729481921632| 0.30844726151737173|-0.03558461269082...| 0.5368669274443172| 0.6051155502739374|-0.06948473921305591|                 1.0|\n",
      "+--------------------+--------------------+--------------------+--------------------+--------------------+-------------------+-------------------+--------------------+--------------------+\n",
      "\n"
     ]
    }
   ],
   "source": [
    "corelationmatrix.show()"
   ]
  },
  {
   "cell_type": "markdown",
   "metadata": {},
   "source": [
    "#### Writing correlation matrix in to a file for better view"
   ]
  },
  {
   "cell_type": "code",
   "execution_count": 29,
   "metadata": {},
   "outputs": [],
   "source": [
    "corelationmatrix.repartition(1).write.format(\"csv\").option(\"header\",\"true\").option(\"delimiter\", \",\").save(\"/user/viswatejaster9073/ML/corelationmatrix\")"
   ]
  },
  {
   "cell_type": "code",
   "execution_count": null,
   "metadata": {},
   "outputs": [],
   "source": []
  },
  {
   "cell_type": "code",
   "execution_count": null,
   "metadata": {},
   "outputs": [],
   "source": []
  }
 ],
 "metadata": {
  "kernelspec": {
   "display_name": "Apache Toree - Scala",
   "language": "scala",
   "name": "apache_toree_scala"
  },
  "language_info": {
   "codemirror_mode": "text/x-scala",
   "file_extension": ".scala",
   "mimetype": "text/x-scala",
   "name": "scala",
   "pygments_lexer": "scala",
   "version": "2.11.8"
  },
  "toc": {
   "base_numbering": 1,
   "nav_menu": {},
   "number_sections": true,
   "sideBar": true,
   "skip_h1_title": false,
   "title_cell": "Table of Contents",
   "title_sidebar": "Contents",
   "toc_cell": false,
   "toc_position": {},
   "toc_section_display": true,
   "toc_window_display": false
  }
 },
 "nbformat": 4,
 "nbformat_minor": 2
}
