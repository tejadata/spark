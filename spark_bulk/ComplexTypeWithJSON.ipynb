{
 "cells": [
  {
   "cell_type": "code",
   "execution_count": 8,
   "metadata": {},
   "outputs": [],
   "source": [
    "import org.apache.spark.{SparkConf, SparkContext}\n",
    "import org.apache.hadoop.fs._\n",
    "import org.apache.spark.sql\n",
    "import org.apache.spark.sql.types._\n",
    "import org.apache.spark.sql.Encoders\n",
    "import org.apache.spark.sql.functions.{expr,col,pow}\n",
    "import org.apache.spark.sql.functions.udf\n",
    "import org.apache.spark.sql.functions._\n",
    "import org.apache.spark.sql.hive.HiveContext;"
   ]
  },
  {
   "cell_type": "code",
   "execution_count": 7,
   "metadata": {},
   "outputs": [],
   "source": [
    "sc.stop()"
   ]
  },
  {
   "cell_type": "code",
   "execution_count": 9,
   "metadata": {},
   "outputs": [
    {
     "data": {
      "text/plain": [
       "conf = org.apache.spark.SparkConf@4387b512\n",
       "sc = org.apache.spark.SparkContext@3d8536b9\n",
       "spark = org.apache.spark.sql.SQLContext@7a3c51a\n",
       "hive = org.apache.spark.sql.hive.HiveContext@60e1eec0\n"
      ]
     },
     "metadata": {},
     "output_type": "display_data"
    },
    {
     "data": {
      "text/plain": [
       "warning: there were two deprecation warnings; re-run with -deprecation for details\n"
      ]
     },
     "metadata": {},
     "output_type": "display_data"
    },
    {
     "data": {
      "text/plain": [
       "org.apache.spark.sql.hive.HiveContext@60e1eec0"
      ]
     },
     "execution_count": 9,
     "metadata": {},
     "output_type": "execute_result"
    }
   ],
   "source": [
    "val conf = new SparkConf().setAppName(\"Flight status\")\n",
    "val sc = new SparkContext(conf)\n",
    "val spark = new SQLContext(sc) \n",
    "val hive = new org.apache.spark.sql.hive.HiveContext(sc)"
   ]
  },
  {
   "attachments": {
    "image.png": {
     "image/png": "[encoded data removed]"
    }
   },
   "cell_type": "markdown",
   "metadata": {},
   "source": [
    "# JSON which we have has multi lines so we will get error like _corrupt_record: string as spark will not understand the format \n",
    "\n",
    "![image.png](attachment:image.png)"
   ]
  },
  {
   "cell_type": "code",
   "execution_count": 3,
   "metadata": {},
   "outputs": [
    {
     "data": {
      "text/plain": [
       "people = [_corrupt_record: string]\n"
      ]
     },
     "metadata": {},
     "output_type": "display_data"
    },
    {
     "data": {
      "text/plain": [
       "[_corrupt_record: string]"
      ]
     },
     "execution_count": 3,
     "metadata": {},
     "output_type": "execute_result"
    }
   ],
   "source": [
    "val people = spark.read.json(\"/user/viswatejaster9073/JSON/students.json\")"
   ]
  },
  {
   "cell_type": "markdown",
   "metadata": {},
   "source": [
    "## To overcome this issue we have two options"
   ]
  },
  {
   "cell_type": "markdown",
   "metadata": {},
   "source": [
    "### Reading JSON as a whole text file using RDD and then convert it to JSON"
   ]
  },
  {
   "cell_type": "code",
   "execution_count": 4,
   "metadata": {},
   "outputs": [
    {
     "data": {
      "text/plain": [
       "jrdd = MapPartitionsRDD[6] at values at <console>:43\n"
      ]
     },
     "metadata": {},
     "output_type": "display_data"
    },
    {
     "data": {
      "text/plain": [
       "MapPartitionsRDD[6] at values at <console>:43"
      ]
     },
     "execution_count": 4,
     "metadata": {},
     "output_type": "execute_result"
    }
   ],
   "source": [
    "val jrdd = sc.wholeTextFiles(\"/user/viswatejaster9073/JSON/students.json\").values"
   ]
  },
  {
   "cell_type": "code",
   "execution_count": 5,
   "metadata": {},
   "outputs": [
    {
     "data": {
      "text/plain": [
       "jsonstudents = [students: array<struct<address:array<struct<addtype:string,landmark:string,mobile:string>>,age:string,class:string,name:string,score:string>>]\n"
      ]
     },
     "metadata": {},
     "output_type": "display_data"
    },
    {
     "data": {
      "text/plain": [
       "warning: there was one deprecation warning; re-run with -deprecation for details\n"
      ]
     },
     "metadata": {},
     "output_type": "display_data"
    },
    {
     "data": {
      "text/plain": [
       "[students: array<struct<address:array<struct<addtype:string,landmark:string,mobile:string>>,age:string,class:string,name:string,score:string>>]"
      ]
     },
     "execution_count": 5,
     "metadata": {},
     "output_type": "execute_result"
    }
   ],
   "source": [
    "val jsonstudents = spark.read.json(jrdd)"
   ]
  },
  {
   "cell_type": "code",
   "execution_count": 6,
   "metadata": {},
   "outputs": [
    {
     "name": "stdout",
     "output_type": "stream",
     "text": [
      "root\n",
      " |-- students: array (nullable = true)\n",
      " |    |-- element: struct (containsNull = true)\n",
      " |    |    |-- address: array (nullable = true)\n",
      " |    |    |    |-- element: struct (containsNull = true)\n",
      " |    |    |    |    |-- addtype: string (nullable = true)\n",
      " |    |    |    |    |-- landmark: string (nullable = true)\n",
      " |    |    |    |    |-- mobile: string (nullable = true)\n",
      " |    |    |-- age: string (nullable = true)\n",
      " |    |    |-- class: string (nullable = true)\n",
      " |    |    |-- name: string (nullable = true)\n",
      " |    |    |-- score: string (nullable = true)\n",
      "\n"
     ]
    }
   ],
   "source": [
    "jsonstudents.printSchema"
   ]
  },
  {
   "cell_type": "code",
   "execution_count": 7,
   "metadata": {},
   "outputs": [
    {
     "name": "stdout",
     "output_type": "stream",
     "text": [
      "+--------------------+\n",
      "|            students|\n",
      "+--------------------+\n",
      "|[[[[Home, KHT, 12...|\n",
      "+--------------------+\n",
      "\n"
     ]
    }
   ],
   "source": [
    "jsonstudents.show()"
   ]
  },
  {
   "cell_type": "markdown",
   "metadata": {},
   "source": [
    "### Reading JSON with multiple lines as true"
   ]
  },
  {
   "cell_type": "code",
   "execution_count": 10,
   "metadata": {},
   "outputs": [
    {
     "data": {
      "text/plain": [
       "std = [students: array<struct<address:array<struct<addtype:string,landmark:string,mobile:string>>,age:string,class:string,name:string,score:string>>]\n"
      ]
     },
     "metadata": {},
     "output_type": "display_data"
    },
    {
     "data": {
      "text/plain": [
       "[students: array<struct<address:array<struct<addtype:string,landmark:string,mobile:string>>,age:string,class:string,name:string,score:string>>]"
      ]
     },
     "execution_count": 10,
     "metadata": {},
     "output_type": "execute_result"
    }
   ],
   "source": [
    "val std = spark.read.option(\"multiline\", \"true\").json(\"/user/viswatejaster9073/JSON/students.json\")"
   ]
  },
  {
   "cell_type": "code",
   "execution_count": 11,
   "metadata": {},
   "outputs": [
    {
     "name": "stdout",
     "output_type": "stream",
     "text": [
      "root\n",
      " |-- students: array (nullable = true)\n",
      " |    |-- element: struct (containsNull = true)\n",
      " |    |    |-- address: array (nullable = true)\n",
      " |    |    |    |-- element: struct (containsNull = true)\n",
      " |    |    |    |    |-- addtype: string (nullable = true)\n",
      " |    |    |    |    |-- landmark: string (nullable = true)\n",
      " |    |    |    |    |-- mobile: string (nullable = true)\n",
      " |    |    |-- age: string (nullable = true)\n",
      " |    |    |-- class: string (nullable = true)\n",
      " |    |    |-- name: string (nullable = true)\n",
      " |    |    |-- score: string (nullable = true)\n",
      "\n"
     ]
    }
   ],
   "source": [
    "std.printSchema"
   ]
  },
  {
   "cell_type": "markdown",
   "metadata": {},
   "source": [
    "# Viewing JSON dataframe\n",
    "## if you see the below results our Dataframe it read the whole json as a single line"
   ]
  },
  {
   "cell_type": "code",
   "execution_count": 5,
   "metadata": {},
   "outputs": [
    {
     "name": "stdout",
     "output_type": "stream",
     "text": [
      "+--------------------+\n",
      "|        OrderedItems|\n",
      "+--------------------+\n",
      "|[[[9878987890, 12...|\n",
      "+--------------------+\n",
      "\n"
     ]
    }
   ],
   "source": [
    "std.show()"
   ]
  },
  {
   "cell_type": "markdown",
   "metadata": {},
   "source": [
    "### lets use spark SQL to seperate/explode the the single column called students "
   ]
  },
  {
   "cell_type": "code",
   "execution_count": 11,
   "metadata": {},
   "outputs": [],
   "source": [
    "std.createOrReplaceTempView(\"stu\")"
   ]
  },
  {
   "cell_type": "code",
   "execution_count": 12,
   "metadata": {},
   "outputs": [
    {
     "data": {
      "text/plain": [
       "result = [addtype: array<string>, mobile: array<string> ... 5 more fields]\n"
      ]
     },
     "metadata": {},
     "output_type": "display_data"
    },
    {
     "data": {
      "text/plain": [
       "[addtype: array<string>, mobile: array<string> ... 5 more fields]"
      ]
     },
     "execution_count": 12,
     "metadata": {},
     "output_type": "execute_result"
    }
   ],
   "source": [
    "val result = spark.sql(\"select s.address.addtype,s.address.mobile,s.address.landmark,s.age,s.class,s.name,s.score from stu lateral view explode(students) t as s\")"
   ]
  },
  {
   "cell_type": "markdown",
   "metadata": {},
   "source": [
    "#### If you see the below result the addtype,Landmark and mobile is of type array, so it is difficult to process the data"
   ]
  },
  {
   "cell_type": "code",
   "execution_count": 13,
   "metadata": {},
   "outputs": [
    {
     "name": "stdout",
     "output_type": "stream",
     "text": [
      "+-------------+-----------+-----------+---+-----+-----+-----+\n",
      "|      addtype|     mobile|   landmark|age|class| name|score|\n",
      "+-------------+-----------+-----------+---+-----+-----+-----+\n",
      "|[Home, Home1]|[123, 1231]|[KHT, KHT1]|V10|   V1|Viswa| V100|\n",
      "|    [TOffice]|     [T123]|     [TKHT]| T9|   T3| Teja|  T11|\n",
      "|    [AOffice]|     [A123]|     [AKHT]|A11|  A21|Ashok| A111|\n",
      "+-------------+-----------+-----------+---+-----+-----+-----+\n",
      "\n",
      "root\n",
      " |-- addtype: array (nullable = true)\n",
      " |    |-- element: string (containsNull = true)\n",
      " |-- mobile: array (nullable = true)\n",
      " |    |-- element: string (containsNull = true)\n",
      " |-- landmark: array (nullable = true)\n",
      " |    |-- element: string (containsNull = true)\n",
      " |-- age: string (nullable = true)\n",
      " |-- class: string (nullable = true)\n",
      " |-- name: string (nullable = true)\n",
      " |-- score: string (nullable = true)\n",
      "\n"
     ]
    }
   ],
   "source": [
    "result.show()\n",
    "result.printSchema"
   ]
  },
  {
   "cell_type": "markdown",
   "metadata": {},
   "source": [
    "# Now explode the address "
   ]
  },
  {
   "cell_type": "markdown",
   "metadata": {},
   "source": [
    "## Lets create a sepereate dataframe for address and students "
   ]
  },
  {
   "cell_type": "markdown",
   "metadata": {},
   "source": [
    "### creating dataframe for address\n",
    "#### I am creating a dataframe which has address and name"
   ]
  },
  {
   "cell_type": "code",
   "execution_count": 14,
   "metadata": {},
   "outputs": [
    {
     "name": "stdout",
     "output_type": "stream",
     "text": [
      "+--------------------+-----+\n",
      "|             address| name|\n",
      "+--------------------+-----+\n",
      "|[[Home, KHT, 123]...|Viswa|\n",
      "|[[TOffice, TKHT, ...| Teja|\n",
      "|[[AOffice, AKHT, ...|Ashok|\n",
      "+--------------------+-----+\n",
      "\n",
      "root\n",
      " |-- address: array (nullable = true)\n",
      " |    |-- element: struct (containsNull = true)\n",
      " |    |    |-- addtype: string (nullable = true)\n",
      " |    |    |-- landmark: string (nullable = true)\n",
      " |    |    |-- mobile: string (nullable = true)\n",
      " |-- name: string (nullable = true)\n",
      "\n"
     ]
    },
    {
     "data": {
      "text/plain": [
       "add = [address: array<struct<addtype:string,landmark:string,mobile:string>>, name: string]\n"
      ]
     },
     "metadata": {},
     "output_type": "display_data"
    },
    {
     "data": {
      "text/plain": [
       "[address: array<struct<addtype:string,landmark:string,mobile:string>>, name: string]"
      ]
     },
     "execution_count": 14,
     "metadata": {},
     "output_type": "execute_result"
    }
   ],
   "source": [
    "val add = spark.sql(\"select s.address,s.name from stu lateral view explode(students) t as s\")\n",
    "add.show()\n",
    "add.printSchema"
   ]
  },
  {
   "cell_type": "markdown",
   "metadata": {},
   "source": [
    "#### If you see the above response for show() action the address fileds is array of array means nested array, so we have explode it to make it one dimention array as shown below"
   ]
  },
  {
   "cell_type": "code",
   "execution_count": 15,
   "metadata": {},
   "outputs": [],
   "source": [
    "add.createOrReplaceTempView(\"add\")"
   ]
  },
  {
   "cell_type": "code",
   "execution_count": 16,
   "metadata": {},
   "outputs": [
    {
     "name": "stdout",
     "output_type": "stream",
     "text": [
      "+--------------------+-----+\n",
      "|                 col| name|\n",
      "+--------------------+-----+\n",
      "|    [Home, KHT, 123]|Viswa|\n",
      "| [Home1, KHT1, 1231]|Viswa|\n",
      "|[TOffice, TKHT, T...| Teja|\n",
      "|[AOffice, AKHT, A...|Ashok|\n",
      "+--------------------+-----+\n",
      "\n"
     ]
    },
    {
     "data": {
      "text/plain": [
       "add1 = [col: struct<addtype: string, landmark: string ... 1 more field>, name: string]\n"
      ]
     },
     "metadata": {},
     "output_type": "display_data"
    },
    {
     "data": {
      "text/plain": [
       "[col: struct<addtype: string, landmark: string ... 1 more field>, name: string]"
      ]
     },
     "execution_count": 16,
     "metadata": {},
     "output_type": "execute_result"
    }
   ],
   "source": [
    "val add1 = spark.sql(\"select explode(address),name from add\")\n",
    "add1.show()"
   ]
  },
  {
   "cell_type": "code",
   "execution_count": 17,
   "metadata": {},
   "outputs": [],
   "source": [
    "add1.createOrReplaceTempView(\"add1\")"
   ]
  },
  {
   "cell_type": "code",
   "execution_count": 18,
   "metadata": {},
   "outputs": [
    {
     "name": "stdout",
     "output_type": "stream",
     "text": [
      "+-------+--------+------+-----+\n",
      "|addtype|landmark|mobile| name|\n",
      "+-------+--------+------+-----+\n",
      "|   Home|     KHT|   123|Viswa|\n",
      "|  Home1|    KHT1|  1231|Viswa|\n",
      "|TOffice|    TKHT|  T123| Teja|\n",
      "|AOffice|    AKHT|  A123|Ashok|\n",
      "+-------+--------+------+-----+\n",
      "\n"
     ]
    },
    {
     "data": {
      "text/plain": [
       "address = [addtype: string, landmark: string ... 2 more fields]\n"
      ]
     },
     "metadata": {},
     "output_type": "display_data"
    },
    {
     "data": {
      "text/plain": [
       "[addtype: string, landmark: string ... 2 more fields]"
      ]
     },
     "execution_count": 18,
     "metadata": {},
     "output_type": "execute_result"
    }
   ],
   "source": [
    "val address = spark.sql(\"select col.addtype,col.landmark,col.mobile,name from add1\")\n",
    "address.show()"
   ]
  },
  {
   "cell_type": "markdown",
   "metadata": {},
   "source": [
    "## Creating dataframe for Student"
   ]
  },
  {
   "cell_type": "code",
   "execution_count": 19,
   "metadata": {},
   "outputs": [
    {
     "data": {
      "text/plain": [
       "student = [name: string, score: string ... 1 more field]\n"
      ]
     },
     "metadata": {},
     "output_type": "display_data"
    },
    {
     "data": {
      "text/plain": [
       "[name: string, score: string ... 1 more field]"
      ]
     },
     "execution_count": 19,
     "metadata": {},
     "output_type": "execute_result"
    }
   ],
   "source": [
    "val student = spark.sql(\"select s.name,s.score,s.class from stu lateral view explode(students) t as s\")"
   ]
  },
  {
   "cell_type": "code",
   "execution_count": 20,
   "metadata": {},
   "outputs": [
    {
     "name": "stdout",
     "output_type": "stream",
     "text": [
      "+-------+--------+------+-----+\n",
      "|addtype|landmark|mobile| name|\n",
      "+-------+--------+------+-----+\n",
      "|   Home|     KHT|   123|Viswa|\n",
      "|  Home1|    KHT1|  1231|Viswa|\n",
      "|TOffice|    TKHT|  T123| Teja|\n",
      "|AOffice|    AKHT|  A123|Ashok|\n",
      "+-------+--------+------+-----+\n",
      "\n",
      "+-----+-----+-----+\n",
      "| name|score|class|\n",
      "+-----+-----+-----+\n",
      "|Viswa| V100|   V1|\n",
      "| Teja|  T11|   T3|\n",
      "|Ashok| A111|  A21|\n",
      "+-----+-----+-----+\n",
      "\n"
     ]
    }
   ],
   "source": [
    "address.show()\n",
    "student.show()"
   ]
  },
  {
   "cell_type": "markdown",
   "metadata": {},
   "source": [
    "# Now we need to join the two tables"
   ]
  },
  {
   "cell_type": "code",
   "execution_count": 21,
   "metadata": {},
   "outputs": [
    {
     "data": {
      "text/plain": [
       "finaldf = [name: string, score: string ... 5 more fields]\n"
      ]
     },
     "metadata": {},
     "output_type": "display_data"
    },
    {
     "data": {
      "text/plain": [
       "[name: string, score: string ... 5 more fields]"
      ]
     },
     "execution_count": 21,
     "metadata": {},
     "output_type": "execute_result"
    }
   ],
   "source": [
    "val finaldf = student.join(address,student(\"name\") === address(\"name\"),\"right\")"
   ]
  },
  {
   "cell_type": "code",
   "execution_count": 22,
   "metadata": {},
   "outputs": [
    {
     "name": "stdout",
     "output_type": "stream",
     "text": [
      "root\n",
      " |-- name: string (nullable = true)\n",
      " |-- score: string (nullable = true)\n",
      " |-- class: string (nullable = true)\n",
      " |-- addtype: string (nullable = true)\n",
      " |-- landmark: string (nullable = true)\n",
      " |-- mobile: string (nullable = true)\n",
      " |-- name: string (nullable = true)\n",
      "\n"
     ]
    }
   ],
   "source": [
    "finaldf.printSchema"
   ]
  },
  {
   "cell_type": "code",
   "execution_count": 23,
   "metadata": {},
   "outputs": [
    {
     "name": "stdout",
     "output_type": "stream",
     "text": [
      "+-----+-----+-----+-------+--------+------+-----+\n",
      "| name|score|class|addtype|landmark|mobile| name|\n",
      "+-----+-----+-----+-------+--------+------+-----+\n",
      "|Viswa| V100|   V1|   Home|     KHT|   123|Viswa|\n",
      "|Viswa| V100|   V1|  Home1|    KHT1|  1231|Viswa|\n",
      "| Teja|  T11|   T3|TOffice|    TKHT|  T123| Teja|\n",
      "|Ashok| A111|  A21|AOffice|    AKHT|  A123|Ashok|\n",
      "+-----+-----+-----+-------+--------+------+-----+\n",
      "\n"
     ]
    }
   ],
   "source": [
    "finaldf.show()"
   ]
  },
  {
   "cell_type": "markdown",
   "metadata": {},
   "source": [
    "# store the address and student in a HIVE database"
   ]
  },
  {
   "cell_type": "code",
   "execution_count": 24,
   "metadata": {},
   "outputs": [],
   "source": [
    "student.write.mode(\"overwrite\").saveAsTable(\"student_details\");"
   ]
  },
  {
   "cell_type": "code",
   "execution_count": 25,
   "metadata": {},
   "outputs": [],
   "source": [
    "address.write.mode(\"overwrite\").saveAsTable(\"address_details\")"
   ]
  },
  {
   "cell_type": "code",
   "execution_count": null,
   "metadata": {},
   "outputs": [],
   "source": []
  }
 ],
 "metadata": {
  "kernelspec": {
   "display_name": "Apache Toree - Scala",
   "language": "scala",
   "name": "apache_toree_scala"
  },
  "language_info": {
   "codemirror_mode": "text/x-scala",
   "file_extension": ".scala",
   "mimetype": "text/x-scala",
   "name": "scala",
   "pygments_lexer": "scala",
   "version": "2.11.8"
  },
  "toc": {
   "base_numbering": 1,
   "nav_menu": {},
   "number_sections": true,
   "sideBar": true,
   "skip_h1_title": false,
   "title_cell": "Table of Contents",
   "title_sidebar": "Contents",
   "toc_cell": false,
   "toc_position": {},
   "toc_section_display": true,
   "toc_window_display": false
  }
 },
 "nbformat": 4,
 "nbformat_minor": 2
}
