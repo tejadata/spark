{
 "cells": [
  {
   "cell_type": "markdown",
   "metadata": {},
   "source": [
    "# We will see how to use PIVOT function for dataframe\n",
    "- you can download the data from https://datamarket.com/data/set/22ky/monthly-total-number-of-pigs-slaughtered-in-victoria-jan-1980-august-1995#"
   ]
  },
  {
   "cell_type": "code",
   "execution_count": 1,
   "metadata": {},
   "outputs": [],
   "source": [
    "import org.apache.spark.{SparkConf, SparkContext}\n",
    "import org.apache.spark.sql\n",
    "import org.apache.spark.sql.types._\n",
    "import org.apache.spark.sql.Encoders\n",
    "import org.apache.spark.sql.functions.udf\n",
    "import org.apache.spark.sql.functions._"
   ]
  },
  {
   "cell_type": "code",
   "execution_count": 2,
   "metadata": {},
   "outputs": [
    {
     "data": {
      "text/plain": [
       "conf = org.apache.spark.SparkConf@1e55a2b7\n",
       "sc = org.apache.spark.SparkContext@50835744\n",
       "spark = org.apache.spark.sql.SQLContext@5c275e9\n"
      ]
     },
     "metadata": {},
     "output_type": "display_data"
    },
    {
     "data": {
      "text/plain": [
       "warning: there was one deprecation warning; re-run with -deprecation for details\n"
      ]
     },
     "metadata": {},
     "output_type": "display_data"
    },
    {
     "data": {
      "text/plain": [
       "org.apache.spark.sql.SQLContext@5c275e9"
      ]
     },
     "execution_count": 2,
     "metadata": {},
     "output_type": "execute_result"
    }
   ],
   "source": [
    "val conf = new SparkConf().setAppName(\"Flight status\")\n",
    "val sc = new SparkContext(conf)\n",
    "val spark = new SQLContext(sc) "
   ]
  },
  {
   "cell_type": "code",
   "execution_count": 3,
   "metadata": {},
   "outputs": [
    {
     "data": {
      "text/plain": [
       "data = [Month: string, count: int]\n"
      ]
     },
     "metadata": {},
     "output_type": "display_data"
    },
    {
     "data": {
      "text/plain": [
       "[Month: string, count: int]"
      ]
     },
     "execution_count": 3,
     "metadata": {},
     "output_type": "execute_result"
    }
   ],
   "source": [
    "val data = spark.read.format(\"csv\")\n",
    "              .option(\"header\",\"true\")\n",
    "              .option(\"delimiter\", \",\")\n",
    "              .option(\"inferSchema\", \"true\")\n",
    "              .load(\"/user/viswatejaster9073/ML/monthly-total-number-of-pigs-sla.csv\").withColumnRenamed(\"Monthly total number of pigs slaughtered in Victoria. Jan 1980 ? August 1995\",\"count\")"
   ]
  },
  {
   "cell_type": "code",
   "execution_count": 24,
   "metadata": {},
   "outputs": [
    {
     "name": "stdout",
     "output_type": "stream",
     "text": [
      "root\n",
      " |-- Month: string (nullable = true)\n",
      " |-- count: integer (nullable = true)\n",
      "\n",
      "+-------+------+\n",
      "|  Month| count|\n",
      "+-------+------+\n",
      "|1980-01| 76378|\n",
      "|1980-02| 71947|\n",
      "|1980-03| 33873|\n",
      "|1980-04| 96428|\n",
      "|1980-05|105084|\n",
      "|1980-06| 95741|\n",
      "|1980-07|110647|\n",
      "|1980-08|100331|\n",
      "|1980-09| 94133|\n",
      "|1980-10|103055|\n",
      "|1980-11| 90595|\n",
      "|1980-12|101457|\n",
      "|1981-01| 76889|\n",
      "|1981-02| 81291|\n",
      "|1981-03| 91643|\n",
      "|1981-04| 96228|\n",
      "|1981-05|102736|\n",
      "|1981-06|100264|\n",
      "|1981-07|103491|\n",
      "|1981-08| 97027|\n",
      "+-------+------+\n",
      "only showing top 20 rows\n",
      "\n"
     ]
    }
   ],
   "source": [
    "data.printSchema\n",
    "data.show()"
   ]
  },
  {
   "cell_type": "markdown",
   "metadata": {},
   "source": [
    "# I want to extract Month and year in to two diffrent columns"
   ]
  },
  {
   "cell_type": "code",
   "execution_count": 4,
   "metadata": {},
   "outputs": [],
   "source": [
    "data.createOrReplaceTempView(\"data\")"
   ]
  },
  {
   "cell_type": "code",
   "execution_count": 5,
   "metadata": {},
   "outputs": [
    {
     "data": {
      "text/plain": [
       "data_month_year = [year: int, month: int ... 1 more field]\n"
      ]
     },
     "metadata": {},
     "output_type": "display_data"
    },
    {
     "data": {
      "text/plain": [
       "[year: int, month: int ... 1 more field]"
      ]
     },
     "execution_count": 5,
     "metadata": {},
     "output_type": "execute_result"
    }
   ],
   "source": [
    "val data_month_year = spark.sql(\"select year(to_date(Month)) as year,month(to_date(Month)) as month,count from data\")"
   ]
  },
  {
   "cell_type": "code",
   "execution_count": 32,
   "metadata": {},
   "outputs": [
    {
     "name": "stdout",
     "output_type": "stream",
     "text": [
      "+----+-----+------+\n",
      "|year|month| count|\n",
      "+----+-----+------+\n",
      "|1980|    1| 76378|\n",
      "|1980|    2| 71947|\n",
      "|1980|    3| 33873|\n",
      "|1980|    4| 96428|\n",
      "|1980|    5|105084|\n",
      "+----+-----+------+\n",
      "only showing top 5 rows\n",
      "\n"
     ]
    }
   ],
   "source": [
    "data_month_year.show(5)"
   ]
  },
  {
   "cell_type": "markdown",
   "metadata": {},
   "source": [
    "# Now we are using PIVOT function on month column "
   ]
  },
  {
   "cell_type": "code",
   "execution_count": 17,
   "metadata": {},
   "outputs": [
    {
     "data": {
      "text/plain": [
       "s = [year: int, null: bigint ... 12 more fields]\n"
      ]
     },
     "metadata": {},
     "output_type": "display_data"
    },
    {
     "data": {
      "text/plain": [
       "[year: int, null: bigint ... 12 more fields]"
      ]
     },
     "execution_count": 17,
     "metadata": {},
     "output_type": "execute_result"
    }
   ],
   "source": [
    "val s =data_month_year\n",
    "  .groupBy($\"year\")\n",
    "  .pivot(\"month\").sum(\"count\").orderBy($\"year\".asc).withColumnRenamed(\"1\" ,\"JAN\").withColumnRenamed(\"2\" ,\"FEB\")\n",
    ".withColumnRenamed(\"3\" ,\"MAR\").withColumnRenamed(\"4\" ,\"APR\").withColumnRenamed(\"5\" ,\"MAY\").withColumnRenamed(\"6\" ,\"JUN\")\n",
    ".withColumnRenamed(\"7\" ,\"JUL\").withColumnRenamed(\"8\" ,\"AUG\").withColumnRenamed(\"9\" ,\"SEP\").withColumnRenamed(\"10\" ,\"OCT\")\n",
    ".withColumnRenamed(\"11\" ,\"NOV\").withColumnRenamed(\"12\" ,\"DEC\")"
   ]
  },
  {
   "cell_type": "markdown",
   "metadata": {},
   "source": [
    "### If you see the below response we make rows(months) in to columns "
   ]
  },
  {
   "cell_type": "code",
   "execution_count": 31,
   "metadata": {},
   "outputs": [
    {
     "name": "stdout",
     "output_type": "stream",
     "text": [
      "+----+----+------+------+------+------+------+------+------+------+------+------+------+------+\n",
      "|year|null|   JAN|   FEB|   MAR|   APR|   MAY|   JUN|   JUL|   AUG|   SEP|   OCT|   NOV|   DEC|\n",
      "+----+----+------+------+------+------+------+------+------+------+------+------+------+------+\n",
      "|null|null|  null|  null|  null|  null|  null|  null|  null|  null|  null|  null|  null|  null|\n",
      "|1980|null| 76378| 71947| 33873| 96428|105084| 95741|110647|100331| 94133|103055| 90595|101457|\n",
      "|1981|null| 76889| 81291| 91643| 96228|102736|100264|103491| 97027| 95240| 91680|101259|109564|\n",
      "|1982|null| 76892| 85773| 95210| 93771| 98202| 97906|100306| 94089|102680| 77919| 93561|117062|\n",
      "|1983|null| 81225| 88357|106175| 91922|104114|109959| 97880|105386| 96479| 97580|109490|110191|\n",
      "|1984|null| 90974| 98981|107188| 94177|115097|113696|114532|120110| 93607|110925|103312|120184|\n",
      "|1985|null|103069|103351|111331|106161|111590| 99447|101987| 85333| 86970|100561| 89543| 89265|\n",
      "|1986|null| 82719| 79498| 74846| 73819| 77029| 78446| 86978| 75878| 69571| 75722| 64182| 77357|\n",
      "|1987|null| 63292| 59380| 78332| 72381| 55971| 69750| 85472| 70133| 79125| 85805| 81778| 86852|\n",
      "|1988|null| 69069| 79556| 88174| 66698| 72258| 73445| 76131| 86082| 75443| 73969| 78139| 78646|\n",
      "|1989|null| 66269| 73776| 80034| 70694| 81823| 75640| 75540| 82229| 75345| 77034| 78589| 79769|\n",
      "|1990|null| 75982| 78074| 77588| 84100| 97966| 89051| 93503| 84747| 74531| 91900| 81635| 89797|\n",
      "|1991|null| 81022| 78265| 77271| 85043| 95418| 79568|103283| 95770| 91297|101244|114525|101139|\n",
      "|1992|null| 93866| 95171|100183|103926|102643|108387| 97077| 90901| 90336| 88732| 83759| 99267|\n",
      "|1993|null| 73292| 78943| 94399| 92937| 90130| 91055|106062|103560|104075|101783| 93791|102313|\n",
      "|1994|null| 82413| 83534|109011| 96499|102430|103002| 91815| 99067|110067|101599| 97646|104930|\n",
      "|1995|null| 88905| 89936|106723| 84307|114896|106749| 87892|100506|  null|  null|  null|  null|\n",
      "+----+----+------+------+------+------+------+------+------+------+------+------+------+------+\n",
      "\n"
     ]
    }
   ],
   "source": [
    "s.show()"
   ]
  },
  {
   "cell_type": "markdown",
   "metadata": {},
   "source": [
    "## we are deleting the column name with null"
   ]
  },
  {
   "cell_type": "code",
   "execution_count": 18,
   "metadata": {},
   "outputs": [
    {
     "data": {
      "text/plain": [
       "columns = Array(year, JAN, FEB, MAR, APR, MAY, JUN, JUL, AUG, SEP, OCT, NOV, DEC)\n"
      ]
     },
     "metadata": {},
     "output_type": "display_data"
    },
    {
     "data": {
      "text/plain": [
       "[year, JAN, FEB, MAR, APR, MAY, JUN, JUL, AUG, SEP, OCT, NOV, DEC]"
      ]
     },
     "execution_count": 18,
     "metadata": {},
     "output_type": "execute_result"
    }
   ],
   "source": [
    "val columns = s.columns.filter(_!=\"null\")"
   ]
  },
  {
   "cell_type": "code",
   "execution_count": 19,
   "metadata": {},
   "outputs": [
    {
     "data": {
      "text/plain": [
       "final_data = [year: int, JAN: bigint ... 11 more fields]\n"
      ]
     },
     "metadata": {},
     "output_type": "display_data"
    },
    {
     "data": {
      "text/plain": [
       "[year: int, JAN: bigint ... 11 more fields]"
      ]
     },
     "execution_count": 19,
     "metadata": {},
     "output_type": "execute_result"
    }
   ],
   "source": [
    "val final_data = s.selectExpr(columns:_*)"
   ]
  },
  {
   "cell_type": "code",
   "execution_count": 23,
   "metadata": {},
   "outputs": [
    {
     "name": "stdout",
     "output_type": "stream",
     "text": [
      "+----+------+------+------+------+------+------+------+------+------+------+------+------+\n",
      "|year|   JAN|   FEB|   MAR|   APR|   MAY|   JUN|   JUL|   AUG|   SEP|   OCT|   NOV|   DEC|\n",
      "+----+------+------+------+------+------+------+------+------+------+------+------+------+\n",
      "|null|  null|  null|  null|  null|  null|  null|  null|  null|  null|  null|  null|  null|\n",
      "|1980| 76378| 71947| 33873| 96428|105084| 95741|110647|100331| 94133|103055| 90595|101457|\n",
      "|1981| 76889| 81291| 91643| 96228|102736|100264|103491| 97027| 95240| 91680|101259|109564|\n",
      "|1982| 76892| 85773| 95210| 93771| 98202| 97906|100306| 94089|102680| 77919| 93561|117062|\n",
      "|1983| 81225| 88357|106175| 91922|104114|109959| 97880|105386| 96479| 97580|109490|110191|\n",
      "|1984| 90974| 98981|107188| 94177|115097|113696|114532|120110| 93607|110925|103312|120184|\n",
      "|1985|103069|103351|111331|106161|111590| 99447|101987| 85333| 86970|100561| 89543| 89265|\n",
      "|1986| 82719| 79498| 74846| 73819| 77029| 78446| 86978| 75878| 69571| 75722| 64182| 77357|\n",
      "|1987| 63292| 59380| 78332| 72381| 55971| 69750| 85472| 70133| 79125| 85805| 81778| 86852|\n",
      "|1988| 69069| 79556| 88174| 66698| 72258| 73445| 76131| 86082| 75443| 73969| 78139| 78646|\n",
      "|1989| 66269| 73776| 80034| 70694| 81823| 75640| 75540| 82229| 75345| 77034| 78589| 79769|\n",
      "|1990| 75982| 78074| 77588| 84100| 97966| 89051| 93503| 84747| 74531| 91900| 81635| 89797|\n",
      "|1991| 81022| 78265| 77271| 85043| 95418| 79568|103283| 95770| 91297|101244|114525|101139|\n",
      "|1992| 93866| 95171|100183|103926|102643|108387| 97077| 90901| 90336| 88732| 83759| 99267|\n",
      "|1993| 73292| 78943| 94399| 92937| 90130| 91055|106062|103560|104075|101783| 93791|102313|\n",
      "|1994| 82413| 83534|109011| 96499|102430|103002| 91815| 99067|110067|101599| 97646|104930|\n",
      "|1995| 88905| 89936|106723| 84307|114896|106749| 87892|100506|  null|  null|  null|  null|\n",
      "+----+------+------+------+------+------+------+------+------+------+------+------+------+\n",
      "\n"
     ]
    }
   ],
   "source": [
    "final_data.show()"
   ]
  },
  {
   "cell_type": "markdown",
   "metadata": {},
   "source": [
    "# Lets sum the slughts for all months for each year "
   ]
  },
  {
   "cell_type": "code",
   "execution_count": 24,
   "metadata": {},
   "outputs": [
    {
     "data": {
      "text/plain": [
       "columnsToSum = List(JAN, FEB, MAR, APR, MAY, JUN, JUL, AUG, SEP, OCT, NOV, DEC)\n"
      ]
     },
     "metadata": {},
     "output_type": "display_data"
    },
    {
     "data": {
      "text/plain": [
       "List(JAN, FEB, MAR, APR, MAY, JUN, JUL, AUG, SEP, OCT, NOV, DEC)"
      ]
     },
     "execution_count": 24,
     "metadata": {},
     "output_type": "execute_result"
    }
   ],
   "source": [
    "val columnsToSum = List(col(\"JAN\"), col(\"FEB\"), col(\"MAR\"), col(\"APR\"), col(\"MAY\"),col(\"JUN\"),col(\"JUL\"),col(\"AUG\"),\n",
    "                        col(\"SEP\"),col(\"OCT\"),col(\"NOV\"),col(\"DEC\"))"
   ]
  },
  {
   "cell_type": "code",
   "execution_count": 29,
   "metadata": {},
   "outputs": [
    {
     "name": "stdout",
     "output_type": "stream",
     "text": [
      "+----+------+------+------+------+------+------+------+------+------+------+------+------+--------------------+\n",
      "|year|   JAN|   FEB|   MAR|   APR|   MAY|   JUN|   JUL|   AUG|   SEP|   OCT|   NOV|   DEC|Total_slut_In_a_Year|\n",
      "+----+------+------+------+------+------+------+------+------+------+------+------+------+--------------------+\n",
      "|null|  null|  null|  null|  null|  null|  null|  null|  null|  null|  null|  null|  null|                null|\n",
      "|1980| 76378| 71947| 33873| 96428|105084| 95741|110647|100331| 94133|103055| 90595|101457|             1079669|\n",
      "|1981| 76889| 81291| 91643| 96228|102736|100264|103491| 97027| 95240| 91680|101259|109564|             1147312|\n",
      "|1982| 76892| 85773| 95210| 93771| 98202| 97906|100306| 94089|102680| 77919| 93561|117062|             1133371|\n",
      "|1983| 81225| 88357|106175| 91922|104114|109959| 97880|105386| 96479| 97580|109490|110191|             1198758|\n",
      "|1984| 90974| 98981|107188| 94177|115097|113696|114532|120110| 93607|110925|103312|120184|             1282783|\n",
      "|1985|103069|103351|111331|106161|111590| 99447|101987| 85333| 86970|100561| 89543| 89265|             1188608|\n",
      "|1986| 82719| 79498| 74846| 73819| 77029| 78446| 86978| 75878| 69571| 75722| 64182| 77357|              916045|\n",
      "|1987| 63292| 59380| 78332| 72381| 55971| 69750| 85472| 70133| 79125| 85805| 81778| 86852|              888271|\n",
      "|1988| 69069| 79556| 88174| 66698| 72258| 73445| 76131| 86082| 75443| 73969| 78139| 78646|              917610|\n",
      "|1989| 66269| 73776| 80034| 70694| 81823| 75640| 75540| 82229| 75345| 77034| 78589| 79769|              916742|\n",
      "|1990| 75982| 78074| 77588| 84100| 97966| 89051| 93503| 84747| 74531| 91900| 81635| 89797|             1018874|\n",
      "|1991| 81022| 78265| 77271| 85043| 95418| 79568|103283| 95770| 91297|101244|114525|101139|             1103845|\n",
      "|1992| 93866| 95171|100183|103926|102643|108387| 97077| 90901| 90336| 88732| 83759| 99267|             1154248|\n",
      "|1993| 73292| 78943| 94399| 92937| 90130| 91055|106062|103560|104075|101783| 93791|102313|             1132340|\n",
      "|1994| 82413| 83534|109011| 96499|102430|103002| 91815| 99067|110067|101599| 97646|104930|             1182013|\n",
      "|1995| 88905| 89936|106723| 84307|114896|106749| 87892|100506|  null|  null|  null|  null|                null|\n",
      "+----+------+------+------+------+------+------+------+------+------+------+------+------+--------------------+\n",
      "\n"
     ]
    }
   ],
   "source": [
    "final_data.withColumn(\"Total_slut_In_a_Year\",columnsToSum.reduce(_+_)).show()"
   ]
  },
  {
   "cell_type": "code",
   "execution_count": null,
   "metadata": {},
   "outputs": [],
   "source": []
  },
  {
   "cell_type": "code",
   "execution_count": null,
   "metadata": {},
   "outputs": [],
   "source": []
  }
 ],
 "metadata": {
  "kernelspec": {
   "display_name": "Apache Toree - Scala",
   "language": "scala",
   "name": "apache_toree_scala"
  },
  "language_info": {
   "codemirror_mode": "text/x-scala",
   "file_extension": ".scala",
   "mimetype": "text/x-scala",
   "name": "scala",
   "pygments_lexer": "scala",
   "version": "2.11.8"
  },
  "toc": {
   "base_numbering": 1,
   "nav_menu": {},
   "number_sections": true,
   "sideBar": true,
   "skip_h1_title": false,
   "title_cell": "Table of Contents",
   "title_sidebar": "Contents",
   "toc_cell": false,
   "toc_position": {},
   "toc_section_display": true,
   "toc_window_display": false
  }
 },
 "nbformat": 4,
 "nbformat_minor": 2
}
