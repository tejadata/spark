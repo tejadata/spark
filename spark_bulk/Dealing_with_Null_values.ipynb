{
 "cells": [
  {
   "cell_type": "markdown",
   "metadata": {},
   "source": [
    "# In this post we will see how to check null values and fill them"
   ]
  },
  {
   "cell_type": "code",
   "execution_count": 3,
   "metadata": {},
   "outputs": [],
   "source": [
    "import org.apache.spark.{SparkConf, SparkContext}\n",
    "import org.apache.hadoop.fs._\n",
    "import org.apache.spark.sql\n",
    "import org.apache.spark.sql.types._\n",
    "import org.apache.spark.sql.Encoders\n",
    "import org.apache.spark.sql.functions.{expr,col,pow}\n",
    "import org.apache.spark.sql.types.StructField\n",
    "import org.apache.spark.sql.functions.udf\n",
    "import org.apache.spark.sql.functions._"
   ]
  },
  {
   "cell_type": "code",
   "execution_count": 4,
   "metadata": {},
   "outputs": [
    {
     "data": {
      "text/plain": [
       "conf = org.apache.spark.SparkConf@447743aa\n",
       "sc = org.apache.spark.SparkContext@7b8b6cf0\n",
       "spark = org.apache.spark.sql.SQLContext@57ce6a78\n"
      ]
     },
     "metadata": {},
     "output_type": "display_data"
    },
    {
     "data": {
      "text/plain": [
       "warning: there was one deprecation warning; re-run with -deprecation for details\n"
      ]
     },
     "metadata": {},
     "output_type": "display_data"
    },
    {
     "data": {
      "text/plain": [
       "org.apache.spark.sql.SQLContext@57ce6a78"
      ]
     },
     "execution_count": 4,
     "metadata": {},
     "output_type": "execute_result"
    }
   ],
   "source": [
    "val conf = new SparkConf().setAppName(\"Flight status\")\n",
    "val sc = new SparkContext(conf)\n",
    "val spark = new SQLContext(sc) "
   ]
  },
  {
   "cell_type": "code",
   "execution_count": 5,
   "metadata": {},
   "outputs": [
    {
     "data": {
      "text/plain": [
       "retail_t = [customer_id: string, trans_date: string ... 1 more field]\n"
      ]
     },
     "metadata": {},
     "output_type": "display_data"
    },
    {
     "data": {
      "text/plain": [
       "[customer_id: string, trans_date: string ... 1 more field]"
      ]
     },
     "execution_count": 5,
     "metadata": {},
     "output_type": "execute_result"
    }
   ],
   "source": [
    "val retail_t = spark.read.format(\"csv\").\n",
    "            option(\"header\",\"true\").\n",
    "option(\"delimiter\", \",\").\n",
    "option(\"inferSchema\", \"true\").\n",
    "csv(\"/user/viswatejaster9073/nullvalues/Retail_Data_Transactions_null.csv\")"
   ]
  },
  {
   "cell_type": "markdown",
   "metadata": {},
   "source": [
    "# Summary of our datasets"
   ]
  },
  {
   "cell_type": "markdown",
   "metadata": {},
   "source": [
    "## If you see the count of the total its 125000 records and if you see the count for each column under summary there are mismatch, which means there are some missing values"
   ]
  },
  {
   "cell_type": "code",
   "execution_count": 15,
   "metadata": {},
   "outputs": [
    {
     "name": "stdout",
     "output_type": "stream",
     "text": [
      "+-------+-----------+----------+------------------+\n",
      "|summary|customer_id|trans_date|       tran_amount|\n",
      "+-------+-----------+----------+------------------+\n",
      "|  count|     124988|    124989|            124986|\n",
      "|   mean|       null|      null| 64.99039892467957|\n",
      "| stddev|       null|      null|22.859972905342932|\n",
      "|    min|     CS1112| 01-Apr-12|                10|\n",
      "|    25%|       null|      null|                47|\n",
      "|    50%|       null|      null|                65|\n",
      "|    75%|       null|      null|                83|\n",
      "|    max|     CS9000| 31-Oct-14|               105|\n",
      "+-------+-----------+----------+------------------+\n",
      "\n"
     ]
    },
    {
     "data": {
      "text/plain": [
       "lastException: Throwable = null\n"
      ]
     },
     "metadata": {},
     "output_type": "display_data"
    }
   ],
   "source": [
    "retail_t.summary().show()"
   ]
  },
  {
   "cell_type": "code",
   "execution_count": 11,
   "metadata": {},
   "outputs": [
    {
     "data": {
      "text/plain": [
       "125000"
      ]
     },
     "execution_count": 11,
     "metadata": {},
     "output_type": "execute_result"
    }
   ],
   "source": [
    "retail_t.count()"
   ]
  },
  {
   "cell_type": "code",
   "execution_count": 46,
   "metadata": {},
   "outputs": [
    {
     "name": "stdout",
     "output_type": "stream",
     "text": [
      "+-----------+----------+-----------+\n",
      "|customer_id|trans_date|tran_amount|\n",
      "+-----------+----------+-----------+\n",
      "|     CS5295| 11-Feb-13|         35|\n",
      "|     CS4768| 15-Mar-15|         39|\n",
      "|     CS2122| 26-Feb-13|         52|\n",
      "|     CS1217| 16-Nov-11|         99|\n",
      "|     CS1850| 20-Nov-13|         78|\n",
      "|     CS5539|      null|         81|\n",
      "|     CS2724| 06-Feb-12|       null|\n",
      "|     CS5902| 30-Jan-15|       null|\n",
      "|     CS6040| 08-Jan-13|         76|\n",
      "|     CS3802| 20-Aug-13|         75|\n",
      "+-----------+----------+-----------+\n",
      "only showing top 10 rows\n",
      "\n"
     ]
    }
   ],
   "source": [
    "retail_t.show(10)"
   ]
  },
  {
   "cell_type": "markdown",
   "metadata": {},
   "source": [
    "# How to count all null values in a DataFrame\n",
    "\n",
    "### We are using map transformation to find if there are any null values with anyNull function and the response will be either false when no nulls or true when there are nulls"
   ]
  },
  {
   "cell_type": "code",
   "execution_count": 26,
   "metadata": {},
   "outputs": [
    {
     "name": "stdout",
     "output_type": "stream",
     "text": [
      "+-----+\n",
      "|value|\n",
      "+-----+\n",
      "|false|\n",
      "|false|\n",
      "|false|\n",
      "|false|\n",
      "|false|\n",
      "| true|\n",
      "| true|\n",
      "+-----+\n",
      "only showing top 7 rows\n",
      "\n"
     ]
    }
   ],
   "source": [
    "retail_t.map(x=>x.anyNull).show(7)"
   ]
  },
  {
   "cell_type": "markdown",
   "metadata": {},
   "source": [
    "### Now we are filtering  to find the the values of true and counting it\n",
    "#### if you see the above result the name of the coulm is \"value\" so we are filtering based on it\n",
    "#### As per the result we have 31 null values"
   ]
  },
  {
   "cell_type": "code",
   "execution_count": 22,
   "metadata": {},
   "outputs": [
    {
     "data": {
      "text/plain": [
       "31"
      ]
     },
     "execution_count": 22,
     "metadata": {},
     "output_type": "execute_result"
    }
   ],
   "source": [
    "retail_t.map(x=>x.anyNull).filter($\"value\" === true).count"
   ]
  },
  {
   "cell_type": "markdown",
   "metadata": {},
   "source": [
    "### How to count null values for perticular column in a DataFrame\n",
    "#### for customer_id there are 12 null values"
   ]
  },
  {
   "cell_type": "code",
   "execution_count": 4,
   "metadata": {},
   "outputs": [
    {
     "data": {
      "text/plain": [
       "14"
      ]
     },
     "execution_count": 4,
     "metadata": {},
     "output_type": "execute_result"
    }
   ],
   "source": [
    "retail_t.filter($\"tran_amount\".isNull).count()"
   ]
  },
  {
   "cell_type": "markdown",
   "metadata": {},
   "source": [
    "# Filling/Imputing missing values\n",
    "## we will fill the missing values with Mean for the column IntegerType and for stringtype with some hardcoarded values"
   ]
  },
  {
   "cell_type": "markdown",
   "metadata": {},
   "source": [
    "### Below is the method to find the mean \n",
    "#### If you see the below  result for the mean the string is enclosed in square brackets, so we cant use it to fill the missing values for integertype columns, we are removing it by using regular expressions with replaceAll method"
   ]
  },
  {
   "cell_type": "code",
   "execution_count": 5,
   "metadata": {},
   "outputs": [
    {
     "data": {
      "text/plain": [
       "mean = [64.99039892467957]\n"
      ]
     },
     "metadata": {},
     "output_type": "display_data"
    },
    {
     "data": {
      "text/plain": [
       "[64.99039892467957]"
      ]
     },
     "execution_count": 5,
     "metadata": {},
     "output_type": "execute_result"
    }
   ],
   "source": [
    "var mean =  retail_t.select(avg($\"tran_amount\")).first().toString()"
   ]
  },
  {
   "cell_type": "code",
   "execution_count": 18,
   "metadata": {},
   "outputs": [
    {
     "data": {
      "text/plain": [
       "mean = 64.99039892467957\n"
      ]
     },
     "metadata": {},
     "output_type": "display_data"
    },
    {
     "data": {
      "text/plain": [
       "64.99039892467957"
      ]
     },
     "execution_count": 18,
     "metadata": {},
     "output_type": "execute_result"
    }
   ],
   "source": [
    "var mean =  retail_t.select(avg($\"tran_amount\")).first().toString().replaceAll(\"[\\\\[\\\\]]\",\"\")"
   ]
  },
  {
   "cell_type": "markdown",
   "metadata": {},
   "source": [
    "### fill is the function used to fill the null values"
   ]
  },
  {
   "cell_type": "code",
   "execution_count": 34,
   "metadata": {},
   "outputs": [
    {
     "data": {
      "text/plain": [
       "retail_fill = [customer_id: string, trans_date: string ... 1 more field]\n"
      ]
     },
     "metadata": {},
     "output_type": "display_data"
    },
    {
     "data": {
      "text/plain": [
       "[customer_id: string, trans_date: string ... 1 more field]"
      ]
     },
     "execution_count": 34,
     "metadata": {},
     "output_type": "execute_result"
    }
   ],
   "source": [
    "val retail_fill = retail_t.na.fill(mean.toFloat,Seq(\"tran_amount\"))"
   ]
  },
  {
   "cell_type": "code",
   "execution_count": 36,
   "metadata": {},
   "outputs": [
    {
     "name": "stdout",
     "output_type": "stream",
     "text": [
      "+-----------+----------+-----------+\n",
      "|customer_id|trans_date|tran_amount|\n",
      "+-----------+----------+-----------+\n",
      "|     CS5295| 11-Feb-13|         35|\n",
      "|     CS4768| 15-Mar-15|         39|\n",
      "|     CS2122| 26-Feb-13|         52|\n",
      "|     CS1217| 16-Nov-11|         99|\n",
      "|     CS1850| 20-Nov-13|         78|\n",
      "|     CS5539|      null|         81|\n",
      "|     CS2724| 06-Feb-12|         64|\n",
      "|     CS5902| 30-Jan-15|         64|\n",
      "|     CS6040| 08-Jan-13|         76|\n",
      "|     CS3802| 20-Aug-13|         75|\n",
      "|     CS3494| 02-Jul-13|         94|\n",
      "|     CS3780| 25-Mar-13|         80|\n",
      "|     CS1171| 03-Nov-12|         59|\n",
      "|     CS2892|      null|         43|\n",
      "|     CS5552| 29-Dec-14|         78|\n",
      "|     CS6043| 15-Jan-14|         98|\n",
      "|     CS4147| 08-Jul-13|         81|\n",
      "|       null| 30-Dec-13|         93|\n",
      "|     CS3904| 20-Jul-14|        103|\n",
      "|     CS4102| 09-Jul-11|         64|\n",
      "+-----------+----------+-----------+\n",
      "only showing top 20 rows\n",
      "\n"
     ]
    }
   ],
   "source": [
    "retail_fill.show()"
   ]
  },
  {
   "cell_type": "markdown",
   "metadata": {},
   "source": [
    "# Now lets make it complex, I want to fill the null values for all missing values in all columns in my DataFrame\n",
    "## lets say if my column is string I want ot replace with Mode if it is integer I need to replace with mean"
   ]
  },
  {
   "cell_type": "markdown",
   "metadata": {},
   "source": [
    "### finding maximum transaction date and customer id "
   ]
  },
  {
   "cell_type": "code",
   "execution_count": 15,
   "metadata": {},
   "outputs": [
    {
     "data": {
      "text/plain": [
       "trans_date = 16-Jul-11\n"
      ]
     },
     "metadata": {},
     "output_type": "display_data"
    },
    {
     "data": {
      "text/plain": [
       "16-Jul-11"
      ]
     },
     "execution_count": 15,
     "metadata": {},
     "output_type": "execute_result"
    }
   ],
   "source": [
    "val trans_date = retail_t.select($\"trans_date\").groupBy($\"trans_date\").count().orderBy($\"count\".desc).first()(0).toString.replaceAll(\"[\\\\[\\\\]]\",\"\")"
   ]
  },
  {
   "cell_type": "markdown",
   "metadata": {},
   "source": [
    "### finding most visiting customer"
   ]
  },
  {
   "cell_type": "code",
   "execution_count": 16,
   "metadata": {},
   "outputs": [
    {
     "data": {
      "text/plain": [
       "customer = CS4424\n"
      ]
     },
     "metadata": {},
     "output_type": "display_data"
    },
    {
     "data": {
      "text/plain": [
       "CS4424"
      ]
     },
     "execution_count": 16,
     "metadata": {},
     "output_type": "execute_result"
    }
   ],
   "source": [
    "val customer = retail_t.select($\"customer_id\").groupBy($\"customer_id\").count().orderBy($\"count\".desc).first()(0).toString.replaceAll(\"[\\\\[\\\\]]\",\"\")"
   ]
  },
  {
   "cell_type": "markdown",
   "metadata": {},
   "source": [
    "### now filling the missing values with mean, most visiting cutomer and maximum transaction date as shown below"
   ]
  },
  {
   "cell_type": "code",
   "execution_count": 19,
   "metadata": {},
   "outputs": [
    {
     "data": {
      "text/plain": [
       "fillmissvalues = Map(customer_id -> CS4424, trans_date -> 16-Jul-11, tran_amount -> 64.99039892467957)\n"
      ]
     },
     "metadata": {},
     "output_type": "display_data"
    },
    {
     "data": {
      "text/plain": [
       "Map(customer_id -> CS4424, trans_date -> 16-Jul-11, tran_amount -> 64.99039892467957)"
      ]
     },
     "execution_count": 19,
     "metadata": {},
     "output_type": "execute_result"
    }
   ],
   "source": [
    "val fillmissvalues = Map( \"customer_id\" -> customer,\n",
    "                          \"trans_date\" -> trans_date,\n",
    "                           \"tran_amount\" -> mean     // Mean we already calculated\n",
    "                            )"
   ]
  },
  {
   "cell_type": "code",
   "execution_count": 20,
   "metadata": {},
   "outputs": [
    {
     "data": {
      "text/plain": [
       "fillmiss = [customer_id: string, trans_date: string ... 1 more field]\n"
      ]
     },
     "metadata": {},
     "output_type": "display_data"
    },
    {
     "data": {
      "text/plain": [
       "[customer_id: string, trans_date: string ... 1 more field]"
      ]
     },
     "execution_count": 20,
     "metadata": {},
     "output_type": "execute_result"
    }
   ],
   "source": [
    "val fillmiss = retail_t.na.fill(fillmissvalues)"
   ]
  },
  {
   "cell_type": "code",
   "execution_count": 21,
   "metadata": {},
   "outputs": [
    {
     "name": "stdout",
     "output_type": "stream",
     "text": [
      "+-----------+----------+-----------+\n",
      "|customer_id|trans_date|tran_amount|\n",
      "+-----------+----------+-----------+\n",
      "|     CS5295| 11-Feb-13|         35|\n",
      "|     CS4768| 15-Mar-15|         39|\n",
      "|     CS2122| 26-Feb-13|         52|\n",
      "|     CS1217| 16-Nov-11|         99|\n",
      "|     CS1850| 20-Nov-13|         78|\n",
      "|     CS5539| 16-Jul-11|         81|\n",
      "|     CS2724| 06-Feb-12|         64|\n",
      "|     CS5902| 30-Jan-15|         64|\n",
      "|     CS6040| 08-Jan-13|         76|\n",
      "|     CS3802| 20-Aug-13|         75|\n",
      "|     CS3494| 02-Jul-13|         94|\n",
      "|     CS3780| 25-Mar-13|         80|\n",
      "|     CS1171| 03-Nov-12|         59|\n",
      "|     CS2892| 16-Jul-11|         43|\n",
      "|     CS5552| 29-Dec-14|         78|\n",
      "|     CS6043| 15-Jan-14|         98|\n",
      "|     CS4147| 08-Jul-13|         81|\n",
      "|     CS4424| 30-Dec-13|         93|\n",
      "|     CS3904| 20-Jul-14|        103|\n",
      "|     CS4102| 09-Jul-11|         64|\n",
      "+-----------+----------+-----------+\n",
      "only showing top 20 rows\n",
      "\n"
     ]
    }
   ],
   "source": [
    "fillmiss.show()"
   ]
  },
  {
   "cell_type": "markdown",
   "metadata": {},
   "source": [
    "# Dropping missing values"
   ]
  },
  {
   "cell_type": "code",
   "execution_count": 23,
   "metadata": {},
   "outputs": [
    {
     "data": {
      "text/plain": [
       "125000"
      ]
     },
     "execution_count": 23,
     "metadata": {},
     "output_type": "execute_result"
    }
   ],
   "source": [
    "retail_t.count()"
   ]
  },
  {
   "cell_type": "code",
   "execution_count": 24,
   "metadata": {},
   "outputs": [
    {
     "data": {
      "text/plain": [
       "124969"
      ]
     },
     "execution_count": 24,
     "metadata": {},
     "output_type": "execute_result"
    }
   ],
   "source": [
    "retail_t.na.drop().count()"
   ]
  },
  {
   "cell_type": "code",
   "execution_count": 25,
   "metadata": {},
   "outputs": [
    {
     "data": {
      "text/plain": [
       "31"
      ]
     },
     "execution_count": 25,
     "metadata": {},
     "output_type": "execute_result"
    }
   ],
   "source": [
    "retail_t.count()\n",
    "retail_t.na.drop().count()"
   ]
  },
  {
   "cell_type": "code",
   "execution_count": 27,
   "metadata": {},
   "outputs": [
    {
     "data": {
      "text/plain": [
       "124997"
      ]
     },
     "execution_count": 27,
     "metadata": {},
     "output_type": "execute_result"
    }
   ],
   "source": [
    "retail_t.na.drop(\"all\", Seq(\"customer_id\", \"tran_amount\")).count()"
   ]
  },
  {
   "cell_type": "markdown",
   "metadata": {},
   "source": [
    "# Difference between null and NAN\n",
    "## Null means  missing values or no information present, where NaN means not an number some mathematical miscalculations "
   ]
  },
  {
   "cell_type": "code",
   "execution_count": null,
   "metadata": {},
   "outputs": [],
   "source": []
  },
  {
   "cell_type": "code",
   "execution_count": null,
   "metadata": {},
   "outputs": [],
   "source": []
  },
  {
   "cell_type": "code",
   "execution_count": null,
   "metadata": {},
   "outputs": [],
   "source": []
  },
  {
   "cell_type": "code",
   "execution_count": null,
   "metadata": {},
   "outputs": [],
   "source": []
  }
 ],
 "metadata": {
  "kernelspec": {
   "display_name": "Apache Toree - Scala",
   "language": "scala",
   "name": "apache_toree_scala"
  },
  "language_info": {
   "codemirror_mode": "text/x-scala",
   "file_extension": ".scala",
   "mimetype": "text/x-scala",
   "name": "scala",
   "pygments_lexer": "scala",
   "version": "2.11.8"
  },
  "toc": {
   "base_numbering": 1,
   "nav_menu": {},
   "number_sections": true,
   "sideBar": true,
   "skip_h1_title": false,
   "title_cell": "Table of Contents",
   "title_sidebar": "Contents",
   "toc_cell": false,
   "toc_position": {},
   "toc_section_display": true,
   "toc_window_display": false
  }
 },
 "nbformat": 4,
 "nbformat_minor": 2
}
